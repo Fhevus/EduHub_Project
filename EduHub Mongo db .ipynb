{
 "cells": [
  {
   "cell_type": "markdown",
   "id": "64b71b3b-c523-4cae-ba61-fde7804574c8",
   "metadata": {},
   "source": [
    "*PART 1 : DATABASE SETUP* "
   ]
  },
  {
   "cell_type": "markdown",
   "id": "2ec09183-dc01-455c-89ff-0c964141997b",
   "metadata": {},
   "source": [
    "*TASK 1.1 : Create Database and Collections*"
   ]
  },
  {
   "cell_type": "code",
   "execution_count": 3,
   "id": "cb7be69e-0b9b-4641-9123-d7ac8175c0af",
   "metadata": {},
   "outputs": [
    {
     "name": "stdout",
     "output_type": "stream",
     "text": [
      "Requirement already satisfied: pymongo in c:\\users\\user\\anaconda3\\lib\\site-packages (4.13.1)\n",
      "Requirement already satisfied: dnspython<3.0.0,>=1.16.0 in c:\\users\\user\\anaconda3\\lib\\site-packages (from pymongo) (2.7.0)\n",
      "Requirement already satisfied: faker in c:\\users\\user\\anaconda3\\lib\\site-packages (37.4.0)\n",
      "Requirement already satisfied: tzdata in c:\\users\\user\\anaconda3\\lib\\site-packages (from faker) (2023.3)\n"
     ]
    }
   ],
   "source": [
    "#import libraries\n",
    "\n",
    "# First, install the pymongo package\n",
    "!pip install pymongo\n",
    "\n",
    "# Install the faker package\n",
    "!pip install faker\n",
    "\n",
    "# Then import libraries\n",
    "from pymongo import MongoClient\n",
    "import pandas as pd\n",
    "from datetime import datetime, timedelta\n",
    "from faker import Faker\n",
    "import random\n",
    "from bson.objectid import ObjectId\n",
    "import bson\n",
    "import pprint as pp\n"
   ]
  },
  {
   "cell_type": "code",
   "execution_count": 4,
   "id": "50ae176b-a61c-4ab6-902c-9726ff7eac2f",
   "metadata": {},
   "outputs": [],
   "source": [
    "client = MongoClient (\"mongodb://localhost:27017\")\n",
    "fake = Faker()"
   ]
  },
  {
   "cell_type": "code",
   "execution_count": 5,
   "id": "076a5f74-61c8-479a-afd9-cbaba847e53b",
   "metadata": {},
   "outputs": [],
   "source": [
    "#connect to database\n",
    "\n",
    "db = client[\"eduhub_db\"]"
   ]
  },
  {
   "cell_type": "code",
   "execution_count": 6,
   "id": "2b3bd739-109c-4638-acc5-afab47bb527b",
   "metadata": {},
   "outputs": [],
   "source": [
    "users_col = db[\"users\"]\n",
    "courses_col = db[\"courses\"]\n",
    "enrollments_col = db[\"enrollments\"]\n",
    "lessons_col = db[\"lessons\"]\n",
    "assignments_col = db[\"assignments\"]\n",
    "submissions_col = db[\"submissions\"]"
   ]
  },
  {
   "cell_type": "code",
   "execution_count": null,
   "id": "2f967a34-1962-4d00-86bc-a48bf454dfc2",
   "metadata": {},
   "outputs": [],
   "source": []
  },
  {
   "cell_type": "markdown",
   "id": "21f71ee7-cad9-49fb-81e7-4727bde36ac6",
   "metadata": {},
   "source": [
    "*TASK 1.2:  DESIGN DOCUMENT SCHEMA*"
   ]
  },
  {
   "cell_type": "markdown",
   "id": "77d1cf78-48b7-43da-8ae1-72dd90312499",
   "metadata": {},
   "source": [
    "*SAMPLE SCHEMA: users_schema*"
   ]
  },
  {
   "cell_type": "code",
   "execution_count": 7,
   "id": "c9ed1307-0480-4e86-bd22-8e0367e5f92f",
   "metadata": {},
   "outputs": [],
   "source": [
    "#Preselected values\n",
    "roles = [\"student\", \"instructor\"]\n",
    "\n",
    "bio = [\n",
    "    \"Passionate about lifelong learning and sharing knowledge.\",\n",
    "    \"Loves# to solve problems through technology and data.\",\n",
    "    \"Driven by curiosity and a desire to build meaningful things.\",\n",
    "    \"Helping students grow into world-class developers.\",\n",
    "    \"Committed to creating impactful learning experiences.\"\n",
    "]\n",
    "\n",
    "avatar = [\n",
    "    \"https://api.dicebear.com/6.x/thumbs/svg?seed=Alpha\",\n",
    "    \"https://api.dicebear.com/6.x/thumbs/svg?seed=Beta\",\n",
    "    \"https://api.dicebear.com/6.x/thumbs/svg?seed=Gamma\",\n",
    "    \"https://api.dicebear.com/6.x/thumbs/svg?seed=Delta\",\n",
    "    \"https://api.dicebear.com/6.x/thumbs/svg?seed=Echo\",\n",
    "    \"https://api.dicebear.com/6.x/thumbs/svg?seed=Zeta\",\n",
    "    \"https://api.dicebear.com/6.x/thumbs/svg?seed=Orion\",\n",
    "    \"https://api.dicebear.com/6.x/thumbs/svg?seed=Nova\",\n",
    "    \"https://api.dicebear.com/6.x/thumbs/svg?seed=Pixel\",\n",
    "    \"https://api.dicebear.com/6.x/thumbs/svg?seed=Rocket\"\n",
    "]\n",
    "\n",
    "skills = [\n",
    "    \"Python\", \"MongoDB\", \"Data Engineering\", \"ETL\", \"Machine Learning\",\n",
    "    \"Cloud Computing\", \"Docker\", \"JavaScript\", \"SQL\", \"APIs\"\n",
    "]\n",
    "\n",
    "# Generate users_schema\n",
    "users_schema = []\n",
    "\n",
    "for i in range(1, 101):\n",
    "    r_user = {\n",
    "        \"_id\" : ObjectId(),\n",
    "        \"user_id\" : f\"U{str(i).zfill(3)}\",\n",
    "        \"email\" : fake.email(),\n",
    "        \"first_name\" : fake.first_name(),\n",
    "        \"last_name\" : fake.last_name(),\n",
    "        \"date_joined\" : fake.date_time_between(start_date=\"-1y\", end_date=\"now\"),\n",
    "        \"role\" : random.choice(roles),\n",
    "        \"profile\" : {\n",
    "            \"bio\" : random.choice(bio),\n",
    "            \"avatar\" : random.choice(avatar),\n",
    "            \"skills\" : random.sample(skills, k=3)\n",
    "        },\n",
    "\n",
    "        \"is_active\" : random.choice([True, False])\n",
    "    }\n",
    "\n",
    "    users_schema.append(r_user)"
   ]
  },
  {
   "cell_type": "markdown",
   "id": "1c2fb1f5-cf76-47b3-8028-4c1e74b6b034",
   "metadata": {},
   "source": [
    "SAMPLE SCHEMA- Course_Schema"
   ]
  },
  {
   "cell_type": "code",
   "execution_count": 8,
   "id": "6cdd6a8c-ede1-4fa1-89a0-38e25270e1b5",
   "metadata": {},
   "outputs": [],
   "source": [
    "# Preselected options\n",
    "categories = [\"Data Engineering\", \"Web Development\", \"Cloud Computing\", \"AI\", \"DevOps\"]\n",
    "levels = [\"beginner\", \"intermediate\", \"advanced\"]\n",
    "tags = [\n",
    "    \"project-based\", \"career-ready\", \"hands-on\", \"real-world\", \"certification\",\n",
    "    \"mentor-supported\", \"interactive\", \"video-tutorials\", \"downloadable-resources\",\n",
    "    \"quiz-included\", \"assignment-driven\", \"lifetime-access\", \"community-support\",\n",
    "    \"interview-prep\", \"beginner-friendly\"\n",
    "]\n",
    "descriptions = [\n",
    "    \"Learn how to build scalable data pipelines using modern tools and best practices.\",\n",
    "    \"This course introduces you to web development using HTML, CSS, and JavaScript.\",\n",
    "    \"Master cloud infrastructure and deployment using AWS, Docker, and Kubernetes.\",\n",
    "    \"Understand core machine learning concepts with hands-on Python projects.\",\n",
    "    \"Get started with databases and SQL for data analysis and backend development.\",\n",
    "    \"Develop a strong foundation in data engineering with real-world ETL scenarios.\",\n",
    "    \"Explore modern DevOps workflows, CI/CD pipelines, and monitoring strategies.\",\n",
    "    \"Learn to build REST APIs and microservices with Flask and Django.\",\n",
    "    \"Gain experience in big data technologies like Spark and Hadoop.\",\n",
    "    \"Prepare for a career in AI with deep learning and neural network fundamentals.\"\n",
    "]\n",
    "\n",
    "titles = [\n",
    "    \"Python for Beginners\",\n",
    "    \"Data Engineering with Python\",\n",
    "    \"MongoDB for Developers\",\n",
    "    \"Big Data Processing with Spark\",\n",
    "     \"Machine Learning with scikit-learn\",\n",
    "    \"Deep Learning with TensorFlow\",\n",
    "    \"Data Visualization with Seaborn\",\n",
    "    \"AWS Cloud Fundamentals\",\n",
    "    \"Building REST APIs with FastAPI\",\n",
    "    \"Kubernetes for Developers\",\n",
    "    \"Unit Testing in Python\",\n",
    "    \"Git & GitHub for Collaboration\",\n",
    "    \"Clean Code and Refactoring\",\n",
    "    \"Computer Vision with OpenCV\",\n",
    "    \"Deploying Applications with Docker\"\n",
    "]\n",
    "\n",
    "# Simulated instructor user_ids (replace with real ones later)\n",
    "instructor_ids = [f\"U{str(i).zfill(3)}\" for i in range(1, 41)]\n",
    "\n",
    "\n",
    "# Generate courses\n",
    "course_schema = []\n",
    "\n",
    "for i in range(1, 101):\n",
    "    r_course = {\n",
    "        \"_id\": ObjectId(),\n",
    "        \"course_id\": f\"C{str(i).zfill(3)}\",\n",
    "        \"title\": random.choice(titles),\n",
    "        \"description\": random.choice(descriptions),\n",
    "        \"instructor_id\": random.choice(instructor_ids),\n",
    "        \"category\": random.choice(categories),\n",
    "        \"level\": random.choice(levels),\n",
    "        \"duration\": random.randint(5, 60),  # hours\n",
    "        \"price\": random.choice([0, 50, 100, 150, 200, 250, 300]), \n",
    "        \"tags\": random.sample(tags, k=3),\n",
    "        \"created_at\": fake.date_time_between(start_date=\"-6M\", end_date=\"now\"),\n",
    "        \"updated_at\": datetime.now(),\n",
    "        \"is_published\": random.choice([True, False])\n",
    "    }\n",
    "\n",
    "    course_schema.append(r_course)"
   ]
  },
  {
   "cell_type": "code",
   "execution_count": null,
   "id": "fcc6db6e-672d-485d-9134-a6ef2835cd78",
   "metadata": {},
   "outputs": [],
   "source": []
  },
  {
   "cell_type": "markdown",
   "id": "38e5713e-4f5b-4a1f-ac28-5fa03dd161e6",
   "metadata": {},
   "source": [
    "*PART 2: DATA POPULATION*"
   ]
  },
  {
   "cell_type": "markdown",
   "id": "1a6c6789-953a-46ed-b3d3-33e8f7971c6b",
   "metadata": {},
   "source": [
    "*TASK 2.1: Insert Sample Data*"
   ]
  },
  {
   "cell_type": "markdown",
   "id": "c23866ac-03f7-40fb-9a9e-f5bc15f9c069",
   "metadata": {},
   "source": [
    "USERS COLLECTION"
   ]
  },
  {
   "cell_type": "code",
   "execution_count": 9,
   "id": "a672123a-2858-41a8-aaa3-b479190f476e",
   "metadata": {},
   "outputs": [
    {
     "name": "stdout",
     "output_type": "stream",
     "text": [
      " Inserted 20 users successfully.\n"
     ]
    }
   ],
   "source": [
    "#INSERT 20 USERS (mix of students and instructors)\n",
    "\n",
    "users_schema = []\n",
    "for i in range(1, 21):\n",
    "    user = {\n",
    "        \"_id\": ObjectId(),\n",
    "        \"user_id\": f\"U{str(i).zfill(3)}\",\n",
    "        \"email\": fake.email(),\n",
    "        \"first_name\": fake.first_name(),\n",
    "        \"last_name\": fake.last_name(),\n",
    "        \"date_joined\": fake.date_time_between(start_date=\"-1y\", end_date=\"now\"),\n",
    "        \"role\": random.choice(roles),\n",
    "        \"profile\": {\n",
    "            \"bio\": random.choice(bio),\n",
    "            \"avatar\": random.choice(avatar),\n",
    "            \"skills\": random.sample(skills, k=3)\n",
    "        },\n",
    "        \"is_active\": random.choice([True, False])\n",
    "    }\n",
    "    users_schema.append(user)\n",
    "\n",
    "\n",
    "users_col.insert_many(users_schema)\n",
    "\n",
    "print(\" Inserted 20 users successfully.\")"
   ]
  },
  {
   "cell_type": "code",
   "execution_count": null,
   "id": "c30e0787-2c48-430a-8e11-2a7b8405fe5c",
   "metadata": {},
   "outputs": [],
   "source": []
  },
  {
   "cell_type": "markdown",
   "id": "16f34bda-845a-4fbf-b46b-bc0b71fdbaf9",
   "metadata": {},
   "source": [
    "COURSE COLLECTION"
   ]
  },
  {
   "cell_type": "code",
   "execution_count": 10,
   "id": "a0dec496-f201-40d1-b451-08ca2f64f061",
   "metadata": {},
   "outputs": [
    {
     "name": "stdout",
     "output_type": "stream",
     "text": [
      " Inserted 8 courses successfully.\n"
     ]
    }
   ],
   "source": [
    "#INSERT 8 COURSES ACROSS DIFFERENT CATEGORIES\n",
    "\n",
    "course_schema = []\n",
    "\n",
    "for i in range(1, 9):\n",
    "    course = {\n",
    "        \"_id\": ObjectId(),\n",
    "        \"course_id\": f\"C{str(i).zfill(3)}\",\n",
    "        \"title\": random.choice(titles),\n",
    "        \"description\": random.choice(descriptions),\n",
    "        \"instructor_id\": random.choice([user[\"user_id\"] for user in users_schema if user[\"role\"] == \"instructor\"]),\n",
    "        \"category\": random.choice(categories),\n",
    "        \"level\": random.choice(levels),\n",
    "        \"duration\": random.randint(5, 60),\n",
    "        \"price\": random.choice([0, 50, 100, 150, 200, 250, 300]),\n",
    "        \"tags\": random.sample(tags, k=3),\n",
    "        \"created_at\": fake.date_time_between(start_date=\"-6M\", end_date=\"now\"),\n",
    "        \"updated_at\": datetime.now(),\n",
    "        \"is_published\": random.choice([True, False])\n",
    "    }\n",
    "    course_schema.append(course)\n",
    "\n",
    "# Clear and insert\n",
    "courses_col.delete_many({})\n",
    "courses_col.insert_many(course_schema)\n",
    "\n",
    "print(\" Inserted 8 courses successfully.\")\n"
   ]
  },
  {
   "cell_type": "code",
   "execution_count": null,
   "id": "bd694729-de8b-4383-a1f0-5d839b0575fe",
   "metadata": {},
   "outputs": [],
   "source": []
  },
  {
   "cell_type": "markdown",
   "id": "631eb62c-d76e-47c1-ad1e-cad74f0a2115",
   "metadata": {},
   "source": [
    "ENROLLENMENT COLLECTION"
   ]
  },
  {
   "cell_type": "code",
   "execution_count": 14,
   "id": "a1921d93-2533-4e5c-b4a4-b1076d39748a",
   "metadata": {},
   "outputs": [
    {
     "name": "stdout",
     "output_type": "stream",
     "text": [
      "Inserted 15 enrollments successfully.\n"
     ]
    }
   ],
   "source": [
    "#INSERT 15 ENROLLMENTS\n",
    "\n",
    "enrollment_schema = []\n",
    "\n",
    "for i in range(1, 16):\n",
    "    student = random.choice([user for user in users_schema if user[\"role\"] == \"student\"])\n",
    "    course = random.choice(course_schema)\n",
    "\n",
    "    enrollment = {\n",
    "        \"_id\": ObjectId(),\n",
    "        \"enrollment_id\": f\"E{str(i).zfill(3)}\",\n",
    "        \"user_id\": student[\"user_id\"],\n",
    "        \"course_id\": course[\"course_id\"],\n",
    "        \"enrolled_on\": fake.date_time_between(start_date=course[\"created_at\"], end_date=\"now\"),\n",
    "        \"progress\": random.randint(0, 100),\n",
    "        \"completed\": random.choice([True, False])\n",
    "    }\n",
    "\n",
    "    enrollment_schema.append(enrollment)\n",
    "\n",
    "# Clear and insert\n",
    "enrollments_col.delete_many({})\n",
    "enrollments_col.insert_many(enrollment_schema)\n",
    "\n",
    "print(\"Inserted 15 enrollments successfully.\")"
   ]
  },
  {
   "cell_type": "code",
   "execution_count": null,
   "id": "ee8018d7-ee84-47c8-85d7-798bdcc4e3ab",
   "metadata": {},
   "outputs": [],
   "source": []
  },
  {
   "cell_type": "markdown",
   "id": "9a5e1bd5-f3c9-4e5c-bd85-d900620d1738",
   "metadata": {},
   "source": [
    "LESSON COLLECTION"
   ]
  },
  {
   "cell_type": "code",
   "execution_count": null,
   "id": "2aa3e5a4-78fb-4eca-a1d5-4bcac73e9033",
   "metadata": {},
   "outputs": [],
   "source": []
  },
  {
   "cell_type": "code",
   "execution_count": 15,
   "id": "6c40a524-2f79-4dbb-b351-2e3c3b8a956c",
   "metadata": {},
   "outputs": [
    {
     "name": "stdout",
     "output_type": "stream",
     "text": [
      " Inserted 25 lessons successfully.\n"
     ]
    }
   ],
   "source": [
    "#INSERT 25 LESSONS\n",
    "lesson_schema = []\n",
    "\n",
    "for i in range(1, 26):\n",
    "    course = random.choice(course_schema)\n",
    "\n",
    "    lesson = {\n",
    "        \"_id\": ObjectId(),\n",
    "        \"lesson_id\": f\"L{str(i).zfill(3)}\",\n",
    "        \"course_id\": course[\"course_id\"],\n",
    "        \"title\": f\"Lesson {i}: {random.choice(titles)}\",\n",
    "        \"content\": fake.paragraph(nb_sentences=5),\n",
    "        \"video_url\": f\"https://example.com/video/{i}\",\n",
    "        \"resources\": [f\"https://resource.com/{fake.word()}\" for _ in range(2)],\n",
    "        \"order\": i,\n",
    "        \"created_at\": datetime.now()\n",
    "    }\n",
    "\n",
    "    lesson_schema.append(lesson)\n",
    "\n",
    "# Clear and insert\n",
    "lessons_col.delete_many({})\n",
    "lessons_col.insert_many(lesson_schema)\n",
    "\n",
    "print(\" Inserted 25 lessons successfully.\")"
   ]
  },
  {
   "cell_type": "code",
   "execution_count": null,
   "id": "b5a4f1df-7419-4d0b-a3c4-413389114c1b",
   "metadata": {},
   "outputs": [],
   "source": []
  },
  {
   "cell_type": "markdown",
   "id": "1417b33d-6454-4c43-96a9-6afa94abc392",
   "metadata": {},
   "source": [
    "ASSIGNMENT COLLECTION"
   ]
  },
  {
   "cell_type": "code",
   "execution_count": 16,
   "id": "67bb886f-b2f2-4fff-af4c-15bf8ddfcfe6",
   "metadata": {},
   "outputs": [
    {
     "name": "stdout",
     "output_type": "stream",
     "text": [
      " Inserted 10 assignments successfully.\n"
     ]
    }
   ],
   "source": [
    "#INSERT 10 ASSIGNMENTS\n",
    " \n",
    "assignment_schema = []\n",
    "\n",
    "for i in range(1, 11):\n",
    "    lesson = random.choice(lesson_schema)\n",
    "    \n",
    "    assignment = {\n",
    "        \"_id\": ObjectId(),\n",
    "        \"assignment_id\": f\"A{str(i).zfill(3)}\",\n",
    "        \"course_id\": lesson[\"course_id\"],\n",
    "        \"lesson_id\": lesson[\"lesson_id\"],\n",
    "        \"title\": f\"Assignment {i}: {random.choice(titles)}\",\n",
    "        \"description\": fake.paragraph(nb_sentences=3),\n",
    "        \"due_date\": datetime.now() + timedelta(days=random.randint(3, 14)),\n",
    "        \"max_score\": 100,\n",
    "        \"created_at\": datetime.now()\n",
    "    }\n",
    "\n",
    "    assignment_schema.append(assignment)\n",
    "\n",
    "# Clear and insert\n",
    "assignments_col.delete_many({})\n",
    "assignments_col.insert_many(assignment_schema)\n",
    "print(\" Inserted 10 assignments successfully.\")"
   ]
  },
  {
   "cell_type": "code",
   "execution_count": null,
   "id": "4e633f64-cec7-4626-9be1-90652844b922",
   "metadata": {},
   "outputs": [],
   "source": []
  },
  {
   "cell_type": "markdown",
   "id": "d2d7ad11-3468-4a49-ae75-86a8a5edaeef",
   "metadata": {},
   "source": [
    "SUBMISSION COLLECTION"
   ]
  },
  {
   "cell_type": "code",
   "execution_count": 17,
   "id": "54937a30-8d72-43be-81e8-e8cf3e0bcd13",
   "metadata": {},
   "outputs": [
    {
     "name": "stdout",
     "output_type": "stream",
     "text": [
      " Inserted 12 submissions successfully.\n"
     ]
    }
   ],
   "source": [
    "#Insert 12 submissions\n",
    "\n",
    "submission_schema = []\n",
    "\n",
    "for i in range(1, 13):\n",
    "    assignment = random.choice(assignment_schema)\n",
    "    student = random.choice([user for user in users_schema if user[\"role\"] == \"student\"])\n",
    "\n",
    "    submission = {\n",
    "        \"_id\": ObjectId(),\n",
    "        \"submission_id\": f\"S{str(i).zfill(3)}\",\n",
    "        \"assignment_id\": assignment[\"assignment_id\"],\n",
    "        \"user_id\": student[\"user_id\"],\n",
    "        \"submitted_on\": datetime.now() - timedelta(days=random.randint(0, 5)),\n",
    "        \"content\": fake.paragraph(nb_sentences=4),\n",
    "        \"score\": random.randint(50, 100),\n",
    "        \"graded\": random.choice([True, False])\n",
    "    }\n",
    "\n",
    "    submission_schema.append(submission)\n",
    "\n",
    "# Clear and insert\n",
    "submissions_col.delete_many({})\n",
    "submissions_col.insert_many(submission_schema)\n",
    "\n",
    "\n",
    "print(\" Inserted 12 submissions successfully.\")"
   ]
  },
  {
   "cell_type": "code",
   "execution_count": null,
   "id": "bee012ad-82b0-4399-a17c-810b9572b6e7",
   "metadata": {},
   "outputs": [],
   "source": []
  },
  {
   "cell_type": "markdown",
   "id": "1eb4d7ae-76ce-41f6-a981-351275633b14",
   "metadata": {},
   "source": [
    "*TASK 2.2 : DATA RELATIONSHIP*"
   ]
  },
  {
   "cell_type": "markdown",
   "id": "49e6afe1-de7d-416b-b092-fd1c1ab3af3a",
   "metadata": {},
   "source": [
    "Proper referential relationships were established between all collections by using consistent and appropriate field references. Specifically:\n",
    "\n",
    " • The enrollments collection references both the users collection (student_id) and the courses collection (course_id) to link students to the courses they are enrolled in.\n",
    "\n",
    " • The courses collection includes a reference to the instructor via instructor_id, which points to the relevant document in the users collection.\n",
    "\n",
    " • The lessons collection is linked to specific courses through course_id, maintaining a clear association between course content and structure.\n",
    "\n",
    " • The assignments collection is also tied to courses using course_id, ensuring each assignment is properly scoped within its course.\n",
    "\n",
    " • The submissions collection uses both assignment_id and student_id to connect student work to specific assignments and users."
   ]
  },
  {
   "cell_type": "code",
   "execution_count": null,
   "id": "5d4599e5-05d0-481f-a16d-f5ff968bce53",
   "metadata": {},
   "outputs": [],
   "source": []
  },
  {
   "cell_type": "markdown",
   "id": "3279a2df-455b-4698-a7d1-d3e7187bc150",
   "metadata": {},
   "source": [
    "PART 3"
   ]
  },
  {
   "cell_type": "markdown",
   "id": "63238c60-a26e-481c-88ed-5ceafff88593",
   "metadata": {},
   "source": [
    "TASK 3.1 : Create Operations using pymongo to write python code to perform the following operations"
   ]
  },
  {
   "cell_type": "markdown",
   "id": "e123fe3f-7c47-45c0-9b88-332776efd8ac",
   "metadata": {},
   "source": [
    "1 : Add a new student user"
   ]
  },
  {
   "cell_type": "code",
   "execution_count": 18,
   "id": "4de9cff4-0f93-4084-b45b-2e94307c3be5",
   "metadata": {},
   "outputs": [
    {
     "name": "stdout",
     "output_type": "stream",
     "text": [
      " New user added successfully.\n"
     ]
    }
   ],
   "source": [
    "\n",
    "new_user = {\n",
    "    \"_id\": ObjectId(),\n",
    "    \"user_id\": \"U999\",\n",
    "    \"email\": \"newuser@example.com\",\n",
    "    \"first_name\": \"Emeka\",\n",
    "    \"last_name\": \"Favour\",\n",
    "    \"date_joined\": datetime.now(),\n",
    "    \"role\": \"student\",\n",
    "    \"profile\": {\n",
    "        \"bio\": \"Excited to explore the world of data.\",\n",
    "        \"avatar\": \"https://api.dicebear.com/6.x/thumbs/svg?seed=Nova\",\n",
    "        \"skills\": [\"Python\", \"MongoDB\", \"SQL\"]\n",
    "    },\n",
    "    \"is_active\": True\n",
    "}\n",
    "\n",
    "# Insert user\n",
    "users_col.insert_one(new_user)\n",
    "\n",
    "print(\" New user added successfully.\")"
   ]
  },
  {
   "cell_type": "code",
   "execution_count": 19,
   "id": "f071c086-3c58-474f-839c-077b2297ec68",
   "metadata": {},
   "outputs": [
    {
     "name": "stdout",
     "output_type": "stream",
     "text": [
      "User found:\n",
      "{'_id': ObjectId('684d43018fa19ca4efa30a6b'),\n",
      " 'date_joined': datetime.datetime(2025, 6, 14, 10, 38, 9, 990000),\n",
      " 'email': 'newuser@example.com',\n",
      " 'first_name': 'Emeka',\n",
      " 'is_active': True,\n",
      " 'last_name': 'Favour',\n",
      " 'profile': {'avatar': 'https://api.dicebear.com/6.x/thumbs/svg?seed=Nova',\n",
      "             'bio': 'Excited to explore the world of data.',\n",
      "             'skills': ['Python', 'MongoDB', 'SQL']},\n",
      " 'role': 'student',\n",
      " 'user_id': 'U999'}\n"
     ]
    }
   ],
   "source": [
    "#validate \n",
    "\n",
    "user = users_col.find_one({\"user_id\": \"U999\"})\n",
    "\n",
    "if user:\n",
    "    print(\"User found:\")\n",
    "    pp.pprint(user)\n",
    "else:\n",
    "    print(\" User not found.\")"
   ]
  },
  {
   "cell_type": "markdown",
   "id": "37eecfe0-f451-4859-8863-620606454a89",
   "metadata": {},
   "source": [
    "2. Create new course"
   ]
  },
  {
   "cell_type": "code",
   "execution_count": 20,
   "id": "ceda8ee9-97a8-4f9e-b7e0-5099e9fda00c",
   "metadata": {},
   "outputs": [
    {
     "name": "stdout",
     "output_type": "stream",
     "text": [
      "New course added successfully.\n"
     ]
    }
   ],
   "source": [
    "#insert one course\n",
    "\n",
    "\n",
    "new_course = {\n",
    "    \"_id\": ObjectId(),\n",
    "    \"course_id\": \"C999\",\n",
    "    \"title\": \"Data Engineering Essentials\",\n",
    "    \"description\": \"Master the basics of data pipelines, ETL, and database management.\",\n",
    "    \"instructor_id\": \"U005\",  # make sure this ID belongs to an instructor\n",
    "    \"category\": \"Data Engineering\",\n",
    "    \"level\": \"beginner\",\n",
    "    \"duration\": 40,\n",
    "    \"price\": 150,\n",
    "    \"tags\": [\"project-based\", \"career-ready\", \"interactive\"],\n",
    "    \"created_at\": datetime.now(),\n",
    "    \"updated_at\": datetime.now(),\n",
    "    \"is_published\": True\n",
    "}\n",
    "\n",
    "# Insert course\n",
    "courses_col.insert_one(new_course)\n",
    "\n",
    "print(\"New course added successfully.\")\n",
    "\n"
   ]
  },
  {
   "cell_type": "code",
   "execution_count": 21,
   "id": "2516dd88-764d-4ffe-947c-a18494226afd",
   "metadata": {},
   "outputs": [
    {
     "name": "stdout",
     "output_type": "stream",
     "text": [
      "Course found:\n",
      "{'_id': ObjectId('684d4f594cbb2473454156a0'),\n",
      " 'category': 'Data Engineering',\n",
      " 'course_id': 'C999',\n",
      " 'created_at': datetime.datetime(2025, 6, 14, 11, 30, 49, 61000),\n",
      " 'description': 'Master the basics of data pipelines, ETL, and database '\n",
      "                'management.',\n",
      " 'duration': 40,\n",
      " 'instructor_id': 'U005',\n",
      " 'is_published': True,\n",
      " 'level': 'beginner',\n",
      " 'price': 150,\n",
      " 'tags': ['project-based', 'career-ready', 'interactive'],\n",
      " 'title': 'Data Engineering Essentials',\n",
      " 'updated_at': datetime.datetime(2025, 6, 14, 11, 30, 49, 61000)}\n"
     ]
    }
   ],
   "source": [
    "#validate\n",
    "course = courses_col.find_one({\"course_id\": \"C999\"})\n",
    "\n",
    "if course:\n",
    "    print(\"Course found:\")\n",
    "    pp.pprint(course)\n",
    "else:\n",
    "    print(\"Course not found.\")"
   ]
  },
  {
   "cell_type": "code",
   "execution_count": null,
   "id": "6b07d18b-4ac1-49c8-9ac3-bd51919854e2",
   "metadata": {},
   "outputs": [],
   "source": []
  },
  {
   "cell_type": "markdown",
   "id": "bc289101-df13-44e7-a895-7e998e61419e",
   "metadata": {},
   "source": [
    "3. Enroll a student"
   ]
  },
  {
   "cell_type": "code",
   "execution_count": 22,
   "id": "83592273-588d-495b-a42e-ed03efcaabbc",
   "metadata": {},
   "outputs": [
    {
     "name": "stdout",
     "output_type": "stream",
     "text": [
      " Student enrolled successfully.\n"
     ]
    }
   ],
   "source": [
    "#Enroll a student \n",
    "\n",
    "\n",
    "# Example: Enroll user U999 into course C999\n",
    "new_enrollment = {\n",
    "    \"_id\": ObjectId(),\n",
    "    \"enrollment_id\": \"E999\",\n",
    "    \"user_id\": \"U999\",          # must be a student\n",
    "    \"course_id\": \"C999\",\n",
    "    \"enrolled_on\": datetime.now(),\n",
    "    \"progress\": 0,\n",
    "    \"is_active\": True\n",
    "}\n",
    "\n",
    "# Insert enrollment\n",
    "enrollments_col.insert_one(new_enrollment)\n",
    "\n",
    "print(\" Student enrolled successfully.\")"
   ]
  },
  {
   "cell_type": "code",
   "execution_count": 23,
   "id": "a638f587-468d-4c9b-8961-bf58e3e290a1",
   "metadata": {},
   "outputs": [
    {
     "name": "stdout",
     "output_type": "stream",
     "text": [
      " Enrollment found:\n",
      "{'_id': ObjectId('684d4f5f4cbb2473454156a1'),\n",
      " 'course_id': 'C999',\n",
      " 'enrolled_on': datetime.datetime(2025, 6, 14, 11, 30, 55, 635000),\n",
      " 'enrollment_id': 'E999',\n",
      " 'is_active': True,\n",
      " 'progress': 0,\n",
      " 'user_id': 'U999'}\n"
     ]
    }
   ],
   "source": [
    "#Validate \n",
    "\n",
    "enrollment = enrollments_col.find_one({\"enrollment_id\": \"E999\"})\n",
    "\n",
    "if enrollment:\n",
    "    print(\" Enrollment found:\")\n",
    "    pp.pprint(enrollment)\n",
    "else:\n",
    "    print(\" Enrollment not found.\")"
   ]
  },
  {
   "cell_type": "code",
   "execution_count": null,
   "id": "0a92097d-7638-470f-a411-c68a15c9c735",
   "metadata": {},
   "outputs": [],
   "source": []
  },
  {
   "cell_type": "markdown",
   "id": "135790a1-680e-4c65-92f8-0f28bf496c5d",
   "metadata": {},
   "source": [
    "*4: Add a new lesson to an existing course*"
   ]
  },
  {
   "cell_type": "code",
   "execution_count": 24,
   "id": "7327daba-6937-4233-828e-3e3ac905ea54",
   "metadata": {},
   "outputs": [
    {
     "name": "stdout",
     "output_type": "stream",
     "text": [
      " Lesson added successfully.\n"
     ]
    }
   ],
   "source": [
    "#Add a new lesson \n",
    "\n",
    "\n",
    "new_lesson = {\n",
    "    \"_id\": ObjectId(),\n",
    "    \"lesson_id\": \"L999\",\n",
    "    \"course_id\": \"C999\",  # existing course\n",
    "    \"title\": random.choice(titles),  # from your preselected titles\n",
    "    \"content\": \"This lesson introduces the fundamentals of data engineering.\",\n",
    "    \"duration\": random.randint(10, 30),  # in minutes\n",
    "    \"resources\": [\n",
    "        \"https://example.com/resource1\",\n",
    "        \"https://example.com/resource2\"\n",
    "    ],\n",
    "    \"created_at\": datetime.now()\n",
    "}\n",
    "\n",
    "# Insert lesson\n",
    "lessons_col.insert_one(new_lesson)\n",
    "\n",
    "print(\" Lesson added successfully.\")"
   ]
  },
  {
   "cell_type": "code",
   "execution_count": 25,
   "id": "3e105b5b-bb40-42a9-9f12-9fd264a3725f",
   "metadata": {},
   "outputs": [
    {
     "name": "stdout",
     "output_type": "stream",
     "text": [
      " Lesson found:\n",
      "{'_id': ObjectId('684d4f664cbb2473454156a2'),\n",
      " 'content': 'This lesson introduces the fundamentals of data engineering.',\n",
      " 'course_id': 'C999',\n",
      " 'created_at': datetime.datetime(2025, 6, 14, 11, 31, 2, 193000),\n",
      " 'duration': 18,\n",
      " 'lesson_id': 'L999',\n",
      " 'resources': ['https://example.com/resource1',\n",
      "               'https://example.com/resource2'],\n",
      " 'title': 'AWS Cloud Fundamentals'}\n"
     ]
    }
   ],
   "source": [
    "#Validate \n",
    "\n",
    "\n",
    "lesson = lessons_col.find_one({\"lesson_id\": \"L999\"})\n",
    "\n",
    "if lesson:\n",
    "    print(\" Lesson found:\")\n",
    "    pp.pprint(lesson)\n",
    "else:\n",
    "    print(\" Lesson not found.\")"
   ]
  },
  {
   "cell_type": "code",
   "execution_count": null,
   "id": "3ea8c6b4-5ce6-4250-9c2e-4c0d78d1dc45",
   "metadata": {},
   "outputs": [],
   "source": []
  },
  {
   "cell_type": "markdown",
   "id": "f559100a-118e-4208-b3fd-d66e260b330e",
   "metadata": {},
   "source": [
    "*TASK 3.3 : #UPDATE OPERATIONS*"
   ]
  },
  {
   "cell_type": "markdown",
   "id": "18b10943-8150-4e19-afa0-0379f453abc4",
   "metadata": {},
   "source": [
    "*1: Update a user's profile information*"
   ]
  },
  {
   "cell_type": "code",
   "execution_count": 26,
   "id": "7477f868-1fdf-4e4f-b2ce-d3ef1e2db92d",
   "metadata": {},
   "outputs": [
    {
     "name": "stdout",
     "output_type": "stream",
     "text": [
      " Updated Profile:\n",
      "{'avatar': 'https://api.dicebear.com/6.x/thumbs/svg?seed=Nova',\n",
      " 'bio': 'Always learning. Always building.',\n",
      " 'skills': ['Python', 'MongoDB', 'APIs']}\n"
     ]
    }
   ],
   "source": [
    "#Update a user's profile information \n",
    "\n",
    "\n",
    "users_col.update_one(\n",
    "    {\"user_id\": \"U004\"},\n",
    "    {\n",
    "        \"$set\": {\n",
    "            \"profile.bio\": \"Always learning. Always building.\",\n",
    "            \"profile.avatar\": \"https://api.dicebear.com/6.x/thumbs/svg?seed=Nova\",\n",
    "            \"profile.skills\": [\"Python\", \"MongoDB\", \"APIs\"]\n",
    "        }\n",
    "    }\n",
    ")\n",
    "\n",
    "# Validate\n",
    "user = users_col.find_one({\"user_id\": \"U004\"})\n",
    "if user:\n",
    "    print(\" Updated Profile:\")\n",
    "    pp.pprint(user[\"profile\"])\n",
    "else:\n",
    "    print(\" User not found.\")"
   ]
  },
  {
   "cell_type": "code",
   "execution_count": null,
   "id": "407fc1da-5b75-4522-a7db-184f68c23c12",
   "metadata": {},
   "outputs": [],
   "source": []
  },
  {
   "cell_type": "markdown",
   "id": "8cf841ef-0ae3-4ad6-92c3-5a1192082c20",
   "metadata": {},
   "source": [
    "2. Mark a course as published"
   ]
  },
  {
   "cell_type": "code",
   "execution_count": 27,
   "id": "aab3a23f-24fe-4a64-9b33-f0089ad671de",
   "metadata": {},
   "outputs": [
    {
     "name": "stdout",
     "output_type": "stream",
     "text": [
      " Course 'Data Engineering Essentials' is now published.\n"
     ]
    }
   ],
   "source": [
    "#Mark a course as published \n",
    "\n",
    "courses_col.update_one(\n",
    "    {\"course_id\": \"C004\"},\n",
    "    {\"$set\": {\"is_published\": True}}\n",
    ")\n",
    "\n",
    "# Validate\n",
    "course = courses_col.find_one({\"course_id\": \"C999\"})\n",
    "if course:\n",
    "    print(f\" Course '{course['title']}' is now published.\")\n",
    "else:\n",
    "    print(\" Course not found.\")"
   ]
  },
  {
   "cell_type": "code",
   "execution_count": null,
   "id": "fc169445-326d-44e0-b51c-e0367b97079b",
   "metadata": {},
   "outputs": [],
   "source": []
  },
  {
   "cell_type": "markdown",
   "id": "aaa40025-c8f6-4de9-bb12-92053496d292",
   "metadata": {},
   "source": [
    "3. Update assignment grade"
   ]
  },
  {
   "cell_type": "code",
   "execution_count": 28,
   "id": "e43aaa40-81c3-413d-8889-5fc4b93db768",
   "metadata": {},
   "outputs": [
    {
     "name": "stdout",
     "output_type": "stream",
     "text": [
      " Grade updated: 78\n"
     ]
    }
   ],
   "source": [
    "#Update assignment grades\n",
    "\n",
    "\n",
    "submissions_col.update_one(\n",
    "    {\"submission_id\": \"S004\"},\n",
    "    {\"$set\": {\"grade\": 78}}\n",
    ")\n",
    "\n",
    "#Validate\n",
    "submission = submissions_col.find_one({\"submission_id\": \"S004\"})\n",
    "if submission:\n",
    "    print(f\" Grade updated: {submission['grade']}\")\n",
    "else:\n",
    "    print(\" Submission not found.\")"
   ]
  },
  {
   "cell_type": "code",
   "execution_count": null,
   "id": "d4894aa6-a7ef-4f92-bd19-21718d35e58c",
   "metadata": {},
   "outputs": [],
   "source": []
  },
  {
   "cell_type": "markdown",
   "id": "3f951d70-0ba9-4f06-99bd-ee4fd05194e4",
   "metadata": {},
   "source": [
    "*4: Add tags to an existing course*"
   ]
  },
  {
   "cell_type": "code",
   "execution_count": 29,
   "id": "74bad5ec-96b5-43a6-912f-60e1351d3164",
   "metadata": {},
   "outputs": [
    {
     "name": "stdout",
     "output_type": "stream",
     "text": [
      " Updated Tags for Computer Vision with OpenCV:\n",
      "['beginner-friendly', 'lifetime-access', 'quiz-included', 'interview-prep']\n"
     ]
    }
   ],
   "source": [
    "#Add tags to existing course \n",
    "\n",
    "courses_col.update_one(\n",
    "    {\"course_id\": \"C004\"},\n",
    "    {\"$addToSet\": {\n",
    "        \"tags\": {\n",
    "            \"$each\": [\"interview-prep\", \"lifetime-access\"]\n",
    "        }\n",
    "    }}\n",
    ")\n",
    "\n",
    "#  Validate\n",
    "course = courses_col.find_one({\"course_id\": \"C004\"})\n",
    "if course:\n",
    "    print(f\" Updated Tags for {course['title']}:\")\n",
    "    print(course[\"tags\"])\n",
    "else:\n",
    "    print(\"Course not found.\")"
   ]
  },
  {
   "cell_type": "code",
   "execution_count": null,
   "id": "b7567cdd-1207-4036-8516-e20f472e9ccf",
   "metadata": {},
   "outputs": [],
   "source": []
  },
  {
   "cell_type": "markdown",
   "id": "c34bea8b-4273-48a5-ae4e-369fa1ad2160",
   "metadata": {},
   "source": [
    "*TASK 3.4 : DELETE OPERATIONS*"
   ]
  },
  {
   "cell_type": "markdown",
   "id": "c1ee0948-bd04-433e-9c42-786f90ced664",
   "metadata": {},
   "source": [
    "*1: Remove a user(soft deleting by setting isActive is false)*"
   ]
  },
  {
   "cell_type": "code",
   "execution_count": 30,
   "id": "861a4e7c-3ffe-4e3c-815c-a370befac2c2",
   "metadata": {},
   "outputs": [
    {
     "name": "stdout",
     "output_type": "stream",
     "text": [
      " User U004 is now marked as: Inactive\n"
     ]
    }
   ],
   "source": [
    "#Remove a user (soft delete by setting is Active to false)\n",
    "\n",
    "\n",
    "users_col.update_one(\n",
    "    {\"user_id\": \"U004\"},\n",
    "    {\"$set\": {\"is_active\": False}}\n",
    ")\n",
    "\n",
    "# Validate\n",
    "user = users_col.find_one({\"user_id\": \"U004\"})\n",
    "if user:\n",
    "    status = \"Active\" if user[\"is_active\"] else \"Inactive\"\n",
    "    print(f\" User {user['user_id']} is now marked as: {status}\")\n",
    "else:\n",
    "    print(\" User not found.\")"
   ]
  },
  {
   "cell_type": "code",
   "execution_count": null,
   "id": "be2bde71-7519-4f6b-8853-9af60da6db7c",
   "metadata": {},
   "outputs": [],
   "source": []
  },
  {
   "cell_type": "markdown",
   "id": "64034437-b8fb-439a-a0da-7d20ae278d7a",
   "metadata": {},
   "source": [
    "2: Delete an enrollment"
   ]
  },
  {
   "cell_type": "code",
   "execution_count": 31,
   "id": "0559edda-5baa-4d35-a8c1-b968546912e8",
   "metadata": {},
   "outputs": [
    {
     "name": "stdout",
     "output_type": "stream",
     "text": [
      "Enrollment deleted successfully.\n"
     ]
    }
   ],
   "source": [
    "#Delete an enrollment \n",
    "\n",
    "\n",
    "enrollments_col.delete_one({\"enrollment_id\": \"E004\"})\n",
    "\n",
    "# Validate\n",
    "enrollment = enrollments_col.find_one({\"enrollment_id\": \"004\"})\n",
    "if not enrollment:\n",
    "    print(\"Enrollment deleted successfully.\")\n",
    "else:\n",
    "    print(\"Enrollment still exists.\")"
   ]
  },
  {
   "cell_type": "code",
   "execution_count": null,
   "id": "c61caaba-2760-4b05-8b26-e242285a16ba",
   "metadata": {},
   "outputs": [],
   "source": []
  },
  {
   "cell_type": "markdown",
   "id": "60585c09-7a1c-4c96-8d81-65bf14f8a515",
   "metadata": {},
   "source": [
    "3: Remove a lesson from a course"
   ]
  },
  {
   "cell_type": "code",
   "execution_count": 33,
   "id": "5a29f000-dbb4-4d93-bd9b-d0af18878619",
   "metadata": {},
   "outputs": [
    {
     "name": "stdout",
     "output_type": "stream",
     "text": [
      " Lesson deleted successfully.\n"
     ]
    }
   ],
   "source": [
    "#Remove a lesson from a course \n",
    "\n",
    "lessons_col.delete_one({\"lesson_id\": \"L004\"})\n",
    "\n",
    "\n",
    "lesson = lessons_col.find_one({\"lesson_id\": \"L004\"})\n",
    "\n",
    "if not lesson:\n",
    "    print(\" Lesson deleted successfully.\")\n",
    "else:\n",
    "    print(\" Lesson still exists.\")"
   ]
  },
  {
   "cell_type": "code",
   "execution_count": null,
   "id": "a228f603-f39a-4511-9992-4402e850a7e5",
   "metadata": {},
   "outputs": [],
   "source": []
  },
  {
   "cell_type": "markdown",
   "id": "d8ef7414-62ad-4535-93de-e448e731bca2",
   "metadata": {},
   "source": [
    "*PART 4*\n",
    "*: ADVANCED QUERIES AND AGGREGATION*"
   ]
  },
  {
   "cell_type": "code",
   "execution_count": null,
   "id": "0f07c8d0-d2ff-410d-8732-62a55f688a80",
   "metadata": {},
   "outputs": [],
   "source": [
    "*TASK 4.1: COMPLEX QUERIES*"
   ]
  },
  {
   "cell_type": "markdown",
   "id": "3991b8b3-b730-471a-b7f7-964a1dd4fb8f",
   "metadata": {},
   "source": [
    "*1: Find courses with prices between 50 and 200*"
   ]
  },
  {
   "cell_type": "code",
   "execution_count": 32,
   "id": "9d8cae2c-0c93-4fb1-a247-228f10b07ad6",
   "metadata": {},
   "outputs": [
    {
     "name": "stdout",
     "output_type": "stream",
     "text": [
      " Courses priced between $50 and $200:\n",
      "C002 - Deep Learning with TensorFlow ($150)\n",
      "C004 - Computer Vision with OpenCV ($50)\n",
      "C005 - Building REST APIs with FastAPI ($50)\n",
      "C008 - Python for Beginners ($50)\n",
      "C999 - Data Engineering Essentials ($150)\n"
     ]
    }
   ],
   "source": [
    "#find courses within the price of 50 and 200\n",
    "\n",
    "\n",
    "courses = courses_col.find({\n",
    "    \"price\": {\"$gte\": 50, \"$lte\": 200}\n",
    "})\n",
    "\n",
    "print(\" Courses priced between $50 and $200:\")\n",
    "for course in courses:\n",
    "    print(f\"{course['course_id']} - {course['title']} (${course['price']})\")"
   ]
  },
  {
   "cell_type": "code",
   "execution_count": null,
   "id": "33694f96-b9a7-4dfd-9315-5d772ed7771f",
   "metadata": {},
   "outputs": [],
   "source": []
  },
  {
   "cell_type": "markdown",
   "id": "18bba358-6f2d-4bad-950d-030fad05f786",
   "metadata": {},
   "source": [
    "*2: Get users who joined in the last 6 months*"
   ]
  },
  {
   "cell_type": "code",
   "execution_count": 33,
   "id": "b34bdbf3-fbc0-4c53-a3ba-d7430a6bf106",
   "metadata": {},
   "outputs": [
    {
     "name": "stdout",
     "output_type": "stream",
     "text": [
      "Users who joined in the last 6 months:\n",
      "U001 - Kimberly Williams (Joined: 2025-05-16 01:14:53)\n",
      "U003 - Julia Smith (Joined: 2025-01-14 13:54:40)\n",
      "U004 - Jennifer Cannon (Joined: 2025-04-14 08:34:07)\n",
      "U006 - Cathy Johnson (Joined: 2025-04-14 21:25:17)\n",
      "U008 - Sherri Jones (Joined: 2025-01-04 01:37:50)\n",
      "U015 - Timothy Marshall (Joined: 2024-12-19 19:41:29)\n",
      "U016 - Tammy Lucas (Joined: 2025-03-26 18:06:52)\n",
      "U020 - Jennifer Phillips (Joined: 2025-04-16 02:25:34)\n",
      "U999 - Emeka Favour (Joined: 2025-06-14 10:38:09.990000)\n",
      "U001 - Amy Richardson (Joined: 2025-01-12 00:08:57)\n",
      "U007 - Rachel Wilson (Joined: 2025-04-06 06:45:36)\n",
      "U008 - Brian Burns (Joined: 2024-12-16 20:11:17)\n",
      "U009 - Richard Carlson (Joined: 2025-03-28 21:17:33)\n",
      "U010 - David Cooper (Joined: 2025-05-06 16:15:16)\n",
      "U013 - Randy Montoya (Joined: 2025-06-02 16:04:04)\n",
      "U014 - Mark Hill (Joined: 2025-01-31 11:37:36)\n",
      "U016 - Vanessa Williams (Joined: 2025-05-01 10:34:08)\n",
      "U017 - Pamela Harding (Joined: 2025-04-28 16:16:07)\n",
      "U018 - Joseph Buck (Joined: 2025-06-03 11:12:53)\n",
      "U999 - Emeka Favour (Joined: 2025-06-14 11:30:41.682000)\n"
     ]
    }
   ],
   "source": [
    "#Get users who joined in the last 6 months \n",
    "\n",
    "\n",
    "six_months_ago = datetime.now() - timedelta(days=180)\n",
    "\n",
    "recent_users = users_col.find({\n",
    "    \"date_joined\": {\"$gte\": six_months_ago}\n",
    "})\n",
    "\n",
    "print(\"Users who joined in the last 6 months:\")\n",
    "for user in recent_users:\n",
    "    print(f\"{user['user_id']} - {user['first_name']} {user['last_name']} (Joined: {user['date_joined']})\")"
   ]
  },
  {
   "cell_type": "code",
   "execution_count": null,
   "id": "bed36d25-002c-49e2-b7b8-b104ba8722e8",
   "metadata": {},
   "outputs": [],
   "source": []
  },
  {
   "cell_type": "markdown",
   "id": "f97bf82f-ce9f-408c-9704-f348fe6cef7e",
   "metadata": {},
   "source": [
    "*3: Find courses that have specific tags using $in operators*"
   ]
  },
  {
   "cell_type": "code",
   "execution_count": 34,
   "id": "e700b95d-449f-44db-9d8f-d89e111b67f4",
   "metadata": {},
   "outputs": [
    {
     "name": "stdout",
     "output_type": "stream",
     "text": [
      " Courses with selected tags:\n",
      "C002 - Deep Learning with TensorFlow | Tags: ['community-support', 'video-tutorials', 'assignment-driven']\n",
      "C003 - Git & GitHub for Collaboration | Tags: ['interactive', 'project-based', 'community-support']\n",
      "C005 - Building REST APIs with FastAPI | Tags: ['career-ready', 'hands-on', 'project-based']\n",
      "C007 - Git & GitHub for Collaboration | Tags: ['career-ready', 'interview-prep', 'downloadable-resources']\n",
      "C999 - Data Engineering Essentials | Tags: ['project-based', 'career-ready', 'interactive']\n"
     ]
    }
   ],
   "source": [
    "#find courses that have specific tags using $in operator \n",
    "\n",
    "\n",
    "\n",
    "target_tags = [\"career-ready\", \"assignment-driven\", \"interactive\"]\n",
    "\n",
    "courses = courses_col.find({\n",
    "    \"tags\": {\"$in\": target_tags}\n",
    "})\n",
    "\n",
    "print(\" Courses with selected tags:\")\n",
    "for course in courses:\n",
    "    print(f\"{course['course_id']} - {course['title']} | Tags: {course['tags']}\")"
   ]
  },
  {
   "cell_type": "code",
   "execution_count": null,
   "id": "b01940c6-d656-448d-9068-92625fc0dd62",
   "metadata": {},
   "outputs": [],
   "source": []
  },
  {
   "cell_type": "markdown",
   "id": "3a8d4f21-f560-4a97-bc8a-648b03c9cb04",
   "metadata": {},
   "source": [
    "*4: Retrieve assignments with due dates in the next week*"
   ]
  },
  {
   "cell_type": "code",
   "execution_count": 35,
   "id": "93e63a66-54c9-4305-a153-9846464f7f85",
   "metadata": {},
   "outputs": [
    {
     "name": "stdout",
     "output_type": "stream",
     "text": [
      " Assignments due in the next 7 days:\n",
      "A004 - Assignment 4: MongoDB for Developers | Due: 2025-06-17 11:30:33.535000\n",
      "A005 - Assignment 5: Python for Beginners | Due: 2025-06-21 11:30:33.535000\n",
      "A010 - Assignment 10: Data Visualization with Seaborn | Due: 2025-06-21 11:30:33.536000\n"
     ]
    }
   ],
   "source": [
    "#Retrieve assignments with due dates in the next week \n",
    "\n",
    "today = datetime.now()\n",
    "next_week = today + timedelta(days=7)\n",
    "\n",
    "upcoming_assignments = assignments_col.find({\n",
    "    \"due_date\": {\n",
    "        \"$gte\": today,\n",
    "        \"$lte\": next_week\n",
    "    }\n",
    "})\n",
    "\n",
    "print(\" Assignments due in the next 7 days:\")\n",
    "for assignment in upcoming_assignments:\n",
    "    print(f\"{assignment['assignment_id']} - {assignment['title']} | Due: {assignment['due_date']}\")"
   ]
  },
  {
   "cell_type": "code",
   "execution_count": null,
   "id": "b34a6c4e-503d-4aa3-87db-d470e5939c58",
   "metadata": {},
   "outputs": [],
   "source": []
  },
  {
   "cell_type": "markdown",
   "id": "d60f2195-bdb4-4da4-9876-566fcb838a52",
   "metadata": {},
   "source": [
    "*TASK 4.2 : AGGREGATION PIPELINE*"
   ]
  },
  {
   "cell_type": "markdown",
   "id": "e973ff1e-25bb-4906-864c-ae44abf5c2b6",
   "metadata": {},
   "source": [
    "*COURSE ENROLLMENT STATISTIC*"
   ]
  },
  {
   "cell_type": "markdown",
   "id": "9e4b45f6-fe47-4c0d-8151-1fd043ace66c",
   "metadata": {},
   "source": [
    "*1 : Count total enrollment per course*"
   ]
  },
  {
   "cell_type": "code",
   "execution_count": 38,
   "id": "307e7489-e950-4067-8b78-a39b0308873b",
   "metadata": {},
   "outputs": [
    {
     "name": "stdout",
     "output_type": "stream",
     "text": [
      " Assignments due in the next 7 days:\n",
      "A001 - Assignment 1: MongoDB for Developers | Due: 2025-06-27 11:30:33.535000\n",
      "A002 - Assignment 2: Machine Learning with scikit-learn | Due: 2025-06-27 11:30:33.535000\n",
      "A003 - Assignment 3: Kubernetes for Developers | Due: 2025-06-24 11:30:33.535000\n",
      "A004 - Assignment 4: MongoDB for Developers | Due: 2025-06-17 11:30:33.535000\n",
      "A005 - Assignment 5: Python for Beginners | Due: 2025-06-21 11:30:33.535000\n",
      "A006 - Assignment 6: Data Engineering with Python | Due: 2025-06-26 11:30:33.535000\n",
      "A007 - Assignment 7: Data Engineering with Python | Due: 2025-06-26 11:30:33.535000\n",
      "A008 - Assignment 8: Machine Learning with scikit-learn | Due: 2025-06-22 11:30:33.535000\n",
      "A009 - Assignment 9: Data Engineering with Python | Due: 2025-06-23 11:30:33.535000\n",
      "A010 - Assignment 10: Data Visualization with Seaborn | Due: 2025-06-21 11:30:33.536000\n"
     ]
    }
   ],
   "source": [
    "#Retrieve assignments with due dates in the next week \n",
    "\n",
    "today = datetime.now()\n",
    "next_week = today + timedelta(days=13)\n",
    "\n",
    "upcoming_assignments = assignments_col.find({\n",
    "    \"due_date\": {\n",
    "        \"$gte\": today,\n",
    "        \"$lte\": next_week\n",
    "    }\n",
    "})\n",
    "\n",
    "print(\" Assignments due in the next 13 days:\")\n",
    "for assignment in upcoming_assignments:\n",
    "    print(f\"{assignment['assignment_id']} - {assignment['title']} | Due: {assignment['due_date']}\")"
   ]
  },
  {
   "cell_type": "code",
   "execution_count": null,
   "id": "0cbb7259-8deb-41cd-8836-6c8b2b04ef55",
   "metadata": {},
   "outputs": [],
   "source": []
  },
  {
   "cell_type": "markdown",
   "id": "a00a09c4-e4eb-4f97-ac9b-610a647663b9",
   "metadata": {},
   "source": [
    "*TASK 4.2 : AGGREGATION PIPELINE*"
   ]
  },
  {
   "cell_type": "markdown",
   "id": "ea40e904-a95a-4dfb-bb36-04cd839db3f8",
   "metadata": {},
   "source": [
    "*COURSE ENROLLMENT STATISTIC*"
   ]
  },
  {
   "cell_type": "markdown",
   "id": "b3724f5e-fa27-4cbc-a874-e1c78f80f913",
   "metadata": {},
   "source": [
    "1 : Count total enrollment per course"
   ]
  },
  {
   "cell_type": "code",
   "execution_count": 39,
   "id": "cce7a810-77b8-4ca8-a55f-6295ede4a056",
   "metadata": {},
   "outputs": [
    {
     "name": "stdout",
     "output_type": "stream",
     "text": [
      " Total enrollments per course:\n",
      "Course: C001 | Enrollments: 3\n",
      "Course: C005 | Enrollments: 3\n",
      "Course: C007 | Enrollments: 2\n",
      "Course: C002 | Enrollments: 2\n",
      "Course: C006 | Enrollments: 2\n",
      "Course: C999 | Enrollments: 1\n",
      "Course: C003 | Enrollments: 1\n",
      "Course: C004 | Enrollments: 1\n"
     ]
    }
   ],
   "source": [
    "#Count total enrollment per course\n",
    "\n",
    "\n",
    "\n",
    "pipeline = [\n",
    "    {\n",
    "        \"$group\": {\n",
    "            \"_id\": \"$course_id\",\n",
    "            \"total_enrollments\": {\"$sum\": 1}\n",
    "        }\n",
    "    },\n",
    "    {\n",
    "        \"$sort\": {\"total_enrollments\": -1}\n",
    "    }\n",
    "]\n",
    "\n",
    "results = list(enrollments_col.aggregate(pipeline))\n",
    "\n",
    "print(\" Total enrollments per course:\")\n",
    "for item in results:\n",
    "    print(f\"Course: {item['_id']} | Enrollments: {item['total_enrollments']}\")"
   ]
  },
  {
   "cell_type": "code",
   "execution_count": null,
   "id": "e822bc74-8e88-4bec-8c2a-871a447d9775",
   "metadata": {},
   "outputs": [],
   "source": []
  },
  {
   "cell_type": "markdown",
   "id": "abc69177-8817-44f8-9e5f-1a9b701bf274",
   "metadata": {},
   "source": [
    "*2: Calculate average course rating*"
   ]
  },
  {
   "cell_type": "code",
   "execution_count": 40,
   "id": "172c0a56-1335-42e2-b353-898df0382003",
   "metadata": {},
   "outputs": [
    {
     "name": "stdout",
     "output_type": "stream",
     "text": [
      "C001 - Deep Learning with TensorFlow | Avg Rating: Not Available\n",
      "C002 - Deep Learning with TensorFlow | Avg Rating: Not Available\n",
      "C003 - Git & GitHub for Collaboration | Avg Rating: Not Available\n",
      "C004 - Computer Vision with OpenCV | Avg Rating: Not Available\n",
      "C005 - Building REST APIs with FastAPI | Avg Rating: Not Available\n",
      "C006 - Unit Testing in Python | Avg Rating: Not Available\n",
      "C007 - Git & GitHub for Collaboration | Avg Rating: Not Available\n",
      "C008 - Python for Beginners | Avg Rating: Not Available\n",
      "C999 - Data Engineering Essentials | Avg Rating: Not Available\n"
     ]
    }
   ],
   "source": [
    "#average course rating \n",
    "\n",
    "\n",
    "pipeline = [\n",
    "    {\n",
    "        \"$project\": {\n",
    "            \"course_id\": 1,\n",
    "            \"title\": 1,\n",
    "            \"average_rating\": {\"$avg\": \"$ratings\"}\n",
    "        }\n",
    "    },\n",
    "    {\n",
    "        \"$sort\": {\"average_rating\": -1}\n",
    "    }\n",
    "]\n",
    "\n",
    "results = list(courses_col.aggregate(pipeline))\n",
    "\n",
    "for course in results:\n",
    "    avg = course.get('average_rating')\n",
    "    if avg is not None:\n",
    "        print(f\"{course['course_id']} - {course['title']} | Avg Rating: {round(avg, 2)}\")\n",
    "    else:\n",
    "        print(f\"{course['course_id']} - {course['title']} | Avg Rating: Not Available\")"
   ]
  },
  {
   "cell_type": "code",
   "execution_count": null,
   "id": "6aab7120-29da-4205-a3e2-48156556eaff",
   "metadata": {},
   "outputs": [],
   "source": []
  },
  {
   "cell_type": "markdown",
   "id": "732731d3-72a2-4d03-9505-a77e3a02f76b",
   "metadata": {},
   "source": [
    "*3: Group by course category*"
   ]
  },
  {
   "cell_type": "code",
   "execution_count": 41,
   "id": "17e0b1de-a6c4-4004-90cc-1a787c813776",
   "metadata": {},
   "outputs": [
    {
     "name": "stdout",
     "output_type": "stream",
     "text": [
      " Total courses per category:\n",
      "Cloud Computing → 5 courses\n",
      "Data Engineering → 3 courses\n",
      "DevOps → 1 courses\n"
     ]
    }
   ],
   "source": [
    "#Group by course category\n",
    "\n",
    "\n",
    "pipeline = [\n",
    "    {\n",
    "        \"$group\": {\n",
    "            \"_id\": \"$category\",\n",
    "            \"total_courses\": {\"$sum\": 1}\n",
    "        }\n",
    "    },\n",
    "    {\n",
    "        \"$sort\": {\"total_courses\": -1}\n",
    "    }\n",
    "]\n",
    "\n",
    "results = list(courses_col.aggregate(pipeline))\n",
    "\n",
    "print(\" Total courses per category:\")\n",
    "for item in results:\n",
    "    print(f\"{item['_id']} → {item['total_courses']} courses\")"
   ]
  },
  {
   "cell_type": "code",
   "execution_count": null,
   "id": "e0e3cbec-c608-4a2b-be47-26b17e7bcaa3",
   "metadata": {},
   "outputs": [],
   "source": []
  },
  {
   "cell_type": "markdown",
   "id": "c8c25b38-f375-4315-bdb6-a52beb1a6968",
   "metadata": {},
   "source": [
    "STUDENT PERFORMANCE ANALYSIS"
   ]
  },
  {
   "cell_type": "markdown",
   "id": "dc84b223-2c0c-4a2b-9bc6-e53ff49ef95d",
   "metadata": {},
   "source": [
    "1. Average grade per student"
   ]
  },
  {
   "cell_type": "code",
   "execution_count": 42,
   "id": "8221e405-513d-40fd-abaf-f7ae0e9d7b99",
   "metadata": {},
   "outputs": [
    {
     "name": "stdout",
     "output_type": "stream",
     "text": [
      " Average grade per student:\n",
      "Student: U020 → Avg Grade: 78.0\n",
      "Student: U013 → Avg Grade: Not Available\n",
      "Student: U003 → Avg Grade: Not Available\n",
      "Student: U011 → Avg Grade: Not Available\n",
      "Student: U016 → Avg Grade: Not Available\n",
      "Student: U009 → Avg Grade: Not Available\n",
      "Student: U006 → Avg Grade: Not Available\n"
     ]
    }
   ],
   "source": [
    "#average grade per student \n",
    "\n",
    "pipeline = [\n",
    "    {\n",
    "        \"$group\": {\n",
    "            \"_id\": \"$user_id\",\n",
    "            \"average_grade\": {\"$avg\": \"$grade\"}\n",
    "        }\n",
    "    },\n",
    "    {\n",
    "        \"$sort\": {\"average_grade\": -1}\n",
    "    }\n",
    "]\n",
    "\n",
    "results = list(submissions_col.aggregate(pipeline))\n",
    "\n",
    "print(\" Average grade per student:\")\n",
    "for student in results:\n",
    "    avg = student.get('average_grade')\n",
    "    if avg is not None:\n",
    "        print(f\"Student: {student['_id']} → Avg Grade: {round(avg, 2)}\")\n",
    "    else:\n",
    "        print(f\"Student: {student['_id']} → Avg Grade: Not Available\")"
   ]
  },
  {
   "cell_type": "code",
   "execution_count": null,
   "id": "8f878825-880e-4fc9-af24-3d7db4db5b02",
   "metadata": {},
   "outputs": [],
   "source": []
  },
  {
   "cell_type": "markdown",
   "id": "63670a19-2541-403e-bf5e-f85ba81bea39",
   "metadata": {},
   "source": [
    "2. Completion rate by courses"
   ]
  },
  {
   "cell_type": "code",
   "execution_count": 43,
   "id": "721d4b9a-fd24-4564-ab4f-76ed6c6d212e",
   "metadata": {},
   "outputs": [
    {
     "name": "stdout",
     "output_type": "stream",
     "text": [
      " Completion rate by course\n"
     ]
    }
   ],
   "source": [
    "#Calculate completion rate by course \n",
    "\n",
    "\n",
    "\n",
    "pipeline = [\n",
    "    {\n",
    "        \"$match\": {\"status\": \"completed\"}\n",
    "    },\n",
    "    {\n",
    "        \"$group\": {\n",
    "            \"_id\": \"$course_id\",\n",
    "            \"completed_count\": {\"$sum\": 1}\n",
    "        }\n",
    "    },\n",
    "    {\n",
    "        \"$lookup\": {\n",
    "            \"from\": \"enrollments\",\n",
    "            \"localField\": \"_id\",\n",
    "            \"foreignField\": \"course_id\",\n",
    "            \"as\": \"enrollments\"\n",
    "        }\n",
    "    },\n",
    "    {\n",
    "        \"$project\": {\n",
    "            \"course_id\": \"$_id\",\n",
    "            \"completed_count\": 1,\n",
    "            \"total_enrolled\": {\"$size\": \"$enrollments\"},\n",
    "            \"completion_rate\": {\n",
    "                \"$cond\": [\n",
    "                    {\"$eq\": [{\"$size\": \"$enrollments\"}, 0]},\n",
    "                    0,\n",
    "                    {\n",
    "                        \"$multiply\": [\n",
    "                            {\"$divide\": [\"$completed_count\", {\"$size\": \"$enrollments\"}]},\n",
    "                            100\n",
    "                        ]\n",
    "                    }\n",
    "                ]\n",
    "            }\n",
    "        }\n",
    "    },\n",
    "    {\n",
    "        \"$sort\": {\"completion_rate\": -1}\n",
    "    }\n",
    "]\n",
    "\n",
    "results = list(submissions_col.aggregate(pipeline))\n",
    "\n",
    "print(\" Completion rate by course\")\n",
    "for item in results:\n",
    "    print(f\"{item['course_id']} → {round(item['completion_rate'], 2)}%\")"
   ]
  },
  {
   "cell_type": "code",
   "execution_count": null,
   "id": "9fa37ea7-d824-4ab2-8716-5c3911465824",
   "metadata": {},
   "outputs": [],
   "source": []
  },
  {
   "cell_type": "markdown",
   "id": "a30f2d9a-7035-46f5-8c52-bcc841aa990e",
   "metadata": {},
   "source": [
    "3. Top Performing student"
   ]
  },
  {
   "cell_type": "code",
   "execution_count": 46,
   "id": "c7ce7391-d595-4378-aaa4-32d4be771171",
   "metadata": {},
   "outputs": [
    {
     "name": "stdout",
     "output_type": "stream",
     "text": [
      " Top Performing Students:\n",
      "Student: U020 → Avg Grade: 78.0 | Submissions: 3\n",
      "Student: U006 → Avg Grade: Not Available | Submissions: 2\n",
      "Student: U013 → Avg Grade: Not Available | Submissions: 1\n",
      "Student: U016 → Avg Grade: Not Available | Submissions: 2\n",
      "Student: U011 → Avg Grade: Not Available | Submissions: 1\n"
     ]
    }
   ],
   "source": [
    "#Top performing student \n",
    "\n",
    "pipeline = [\n",
    "    {\n",
    "        \"$group\": {\n",
    "            \"_id\": \"$user_id\",\n",
    "            \"average_grade\": {\"$avg\": \"$grade\"},\n",
    "            \"total_submissions\": {\"$sum\": 1}\n",
    "        }\n",
    "    },\n",
    "    {\n",
    "        \"$sort\": {\"average_grade\": -1}\n",
    "    },\n",
    "    {\n",
    "        \"$limit\": 5  # top 5 students\n",
    "    }\n",
    "]\n",
    "\n",
    "results = list(submissions_col.aggregate(pipeline))\n",
    "\n",
    "print(\" Top Performing Students:\")\n",
    "for student in results:\n",
    "    avg = student.get('average_grade')\n",
    "    if avg is not None:\n",
    "        print(f\"Student: {student['_id']} → Avg Grade: {round(avg, 2)} | Submissions: {student['total_submissions']}\")\n",
    "    else:\n",
    "        print(f\"Student: {student['_id']} → Avg Grade: Not Available | Submissions: {student['total_submissions']}\")"
   ]
  },
  {
   "cell_type": "code",
   "execution_count": null,
   "id": "cd723399-fea7-4069-a386-45f89b8673c5",
   "metadata": {},
   "outputs": [],
   "source": []
  },
  {
   "cell_type": "markdown",
   "id": "07917340-a4ee-45d9-96b0-33c83f831978",
   "metadata": {},
   "source": [
    "*2: Average course rating per instructor*"
   ]
  },
  {
   "cell_type": "code",
   "execution_count": 47,
   "id": "c3c7633e-bb44-48b9-9acf-e72463550f25",
   "metadata": {},
   "outputs": [
    {
     "name": "stdout",
     "output_type": "stream",
     "text": [
      "U001 → Not Available\n",
      "U019 → Not Available\n",
      "U018 → Not Available\n",
      "U005 → Not Available\n",
      "U008 → Not Available\n"
     ]
    }
   ],
   "source": [
    "#average course rating per instructor \n",
    "\n",
    "pipeline = [\n",
    "    {\n",
    "        \"$group\": {\n",
    "            \"_id\": \"$instructor_id\",\n",
    "            \"average_rating\": { \"$avg\": \"$rating\" }\n",
    "        }\n",
    "    },\n",
    "    {\n",
    "        \"$project\": {\n",
    "            \"instructor_id\": \"$_id\",\n",
    "            \"average_rating\": 1,\n",
    "            \"_id\": 0\n",
    "        }\n",
    "    }\n",
    "]\n",
    "\n",
    "results = list(courses_col.aggregate(pipeline))\n",
    "\n",
    "\n",
    "def safe_print(label, value, suffix=\"\"):\n",
    "    if value is not None:\n",
    "         print(f\"{label} → {round(value, 2)}{suffix}\")\n",
    "    else:\n",
    "        print(f\"{label} → Not Available\")\n",
    "\n",
    "for item in results:\n",
    "    safe_print(item['instructor_id'], item.get('average_rating'))"
   ]
  },
  {
   "cell_type": "code",
   "execution_count": null,
   "id": "74b84412-de91-4a5d-bfb6-5c160fef80d6",
   "metadata": {},
   "outputs": [],
   "source": []
  },
  {
   "cell_type": "markdown",
   "id": "909d68b2-0cbb-498c-9c8d-60374a4bb056",
   "metadata": {},
   "source": [
    "3. Revenue generated per instructor"
   ]
  },
  {
   "cell_type": "code",
   "execution_count": 49,
   "id": "8afc8008-e403-4197-acde-ecb87ba16e0e",
   "metadata": {},
   "outputs": [
    {
     "name": "stdout",
     "output_type": "stream",
     "text": [
      "U019 → 200 USD\n",
      "U001 → 300 USD\n",
      "U018 → 1950 USD\n",
      "U005 → 450 USD\n"
     ]
    }
   ],
   "source": [
    "#Revenue generated per instructor \n",
    "\n",
    "pipeline = [\n",
    "    {\n",
    "        \"$lookup\": {\n",
    "            \"from\": \"courses\",\n",
    "            \"localField\": \"course_id\",\n",
    "            \"foreignField\": \"course_id\",\n",
    "            \"as\": \"course_info\"\n",
    "        }\n",
    "    },\n",
    "    { \"$unwind\": \"$course_info\" },\n",
    "    {\n",
    "        \"$group\": {\n",
    "            \"_id\": \"$course_info.instructor_id\",\n",
    "            \"total_revenue\": { \"$sum\": \"$course_info.price\" }\n",
    "        }\n",
    "    },\n",
    "    {\n",
    "        \"$project\": {\n",
    "            \"instructor_id\": \"$_id\",\n",
    "            \"total_revenue\": 1,\n",
    "            \"_id\": 0\n",
    "        }\n",
    "    }\n",
    "]\n",
    "    \n",
    "results = list(enrollments_col.aggregate(pipeline))\n",
    "\n",
    "\n",
    "for item in results:\n",
    "    safe_print(item['instructor_id'], item['total_revenue'], suffix=\" USD\")"
   ]
  },
  {
   "cell_type": "code",
   "execution_count": null,
   "id": "ff87e036-5feb-4a58-85fb-e3ed34f29d82",
   "metadata": {},
   "outputs": [],
   "source": []
  },
  {
   "cell_type": "markdown",
   "id": "5d148514-bda8-4805-a1b9-4259103b0ef4",
   "metadata": {},
   "source": [
    "ADVANCED ANALYTICS"
   ]
  },
  {
   "cell_type": "markdown",
   "id": "9218c15b-4e87-4604-832a-b5130196bf1d",
   "metadata": {},
   "source": [
    "1. Monthly enrollenment trend"
   ]
  },
  {
   "cell_type": "code",
   "execution_count": 50,
   "id": "473f7b49-2579-4791-8540-b1dfa739e9ce",
   "metadata": {},
   "outputs": [
    {
     "name": "stdout",
     "output_type": "stream",
     "text": [
      "None-None → 15 enrollments\n"
     ]
    }
   ],
   "source": [
    "#monthly enrolment trends\n",
    "\n",
    "pipeline = [\n",
    "    {\n",
    "        \"$group\": {\n",
    "            \"_id\": {\n",
    "                \"year\": { \"$year\": \"$enrolled_at\" },\n",
    "                \"month\": { \"$month\": \"$enrolled_at\" }\n",
    "            },\n",
    "            \"total_enrollments\": { \"$sum\": 1 }\n",
    "        }\n",
    "    },\n",
    "    {\n",
    "        \"$sort\": {\n",
    "            \"_id.year\": 1,\n",
    "            \"_id.month\": 1\n",
    "        }\n",
    "    }\n",
    "]\n",
    "\n",
    "results = list(enrollments_col.aggregate(pipeline))\n",
    "\n",
    "\n",
    "for item in results:\n",
    "    year = item[\"_id\"][\"year\"]\n",
    "    month = item[\"_id\"][\"month\"]\n",
    "    total = item[\"total_enrollments\"]\n",
    "    print(f\"{year}-{str(month).zfill(2)} → {total} enrollments\")"
   ]
  },
  {
   "cell_type": "code",
   "execution_count": null,
   "id": "a93869e1-d0e7-4afe-af37-589a28d670b7",
   "metadata": {},
   "outputs": [],
   "source": []
  },
  {
   "cell_type": "markdown",
   "id": "ee559061-12c5-4485-8726-2c711b65fb78",
   "metadata": {},
   "source": [
    "2. Most popular Course category"
   ]
  },
  {
   "cell_type": "code",
   "execution_count": 52,
   "id": "71ddf69c-0e57-40f9-95fb-cde8d15e694b",
   "metadata": {},
   "outputs": [
    {
     "name": "stdout",
     "output_type": "stream",
     "text": [
      "Category: Cloud Computing → Enrollments: 10\n",
      "Category: DevOps → Enrollments: 3\n",
      "Category: Data Engineering → Enrollments: 2\n"
     ]
    }
   ],
   "source": [
    "#most popular course category\n",
    "pipeline = [\n",
    "    {\n",
    "        \"$lookup\": {\n",
    "            \"from\": \"courses\",\n",
    "            \"localField\": \"course_id\",\n",
    "            \"foreignField\": \"course_id\",\n",
    "            \"as\": \"course_info\"\n",
    "        }\n",
    "    },\n",
    "    { \"$unwind\": \"$course_info\" },\n",
    "    {\n",
    "        \"$group\": {\n",
    "            \"_id\": \"$course_info.category\",\n",
    "            \"total_enrollments\": { \"$sum\": 1 }\n",
    "        }\n",
    "    },\n",
    "    {\n",
    "        \"$sort\": { \"total_enrollments\": -1 }\n",
    "    }\n",
    "]\n",
    "\n",
    "results = list(enrollments_col.aggregate(pipeline))\n",
    "\n",
    "\n",
    "for item in results:\n",
    "    print(f\"Category: {item['_id']} → Enrollments: {item['total_enrollments']}\")"
   ]
  },
  {
   "cell_type": "code",
   "execution_count": null,
   "id": "c2c05155-2cdd-4173-ac9c-049a0304b625",
   "metadata": {},
   "outputs": [],
   "source": []
  },
  {
   "cell_type": "markdown",
   "id": "64816bd2-8801-4835-a340-c35376be3e72",
   "metadata": {},
   "source": [
    "*3.Student Engagement metric*"
   ]
  },
  {
   "cell_type": "code",
   "execution_count": 53,
   "id": "d11d92e8-790a-427d-8795-c4ce28d2f677",
   "metadata": {},
   "outputs": [
    {
     "name": "stdout",
     "output_type": "stream",
     "text": [
      "User: U004 → Courses: 1 | Submissions: 0\n",
      "User: U013 → Courses: 1 | Submissions: 1\n",
      "User: U011 → Courses: 1 | Submissions: 1\n",
      "User: U009 → Courses: 3 | Submissions: 2\n",
      "User: U016 → Courses: 1 | Submissions: 2\n",
      "User: U002 → Courses: 2 | Submissions: 0\n",
      "User: U003 → Courses: 2 | Submissions: 1\n",
      "User: U014 → Courses: 1 | Submissions: 0\n",
      "User: U999 → Courses: 1 | Submissions: 0\n",
      "User: U012 → Courses: 2 | Submissions: 0\n",
      "User: U020 → Courses: 0 | Submissions: 3\n",
      "User: U006 → Courses: 0 | Submissions: 2\n"
     ]
    }
   ],
   "source": [
    "#Student metrics engagement \n",
    "#1 Number of Courses Enrolled per Student\n",
    "\n",
    "pipeline = [\n",
    "    {\n",
    "        \"$group\": {\n",
    "            \"_id\": \"$user_id\",\n",
    "            \"courses_enrolled\": { \"$sum\": 1 }\n",
    "        }\n",
    "    },\n",
    "    {\n",
    "        \"$project\": {\n",
    "            \"user_id\": \"$_id\",\n",
    "            \"courses_enrolled\": 1,\n",
    "            \"_id\": 0\n",
    "        }\n",
    "    }\n",
    "]\n",
    "\n",
    "courses_enrolled = list(enrollments_col.aggregate(pipeline))\n",
    "\n",
    "\n",
    "#2 Number of Assignments Submitted per Student\n",
    "pipeline = [\n",
    "     {\n",
    "        \"$group\": {\n",
    "            \"_id\": \"$user_id\",\n",
    "            \"assignments_submitted\": { \"$sum\": 1 }\n",
    "        }\n",
    "    },\n",
    "    {\n",
    "        \"$project\": {\n",
    "            \"user_id\": \"$_id\",\n",
    "            \"assignments_submitted\": 1,\n",
    "            \"_id\": 0\n",
    "        }\n",
    "    }\n",
    "]\n",
    "\n",
    "assignments_done = list(submissions_col.aggregate(pipeline))\n",
    "\n",
    "\n",
    "\n",
    "#3 Lessons Completed\n",
    "\n",
    "\n",
    "\n",
    "from collections import defaultdict\n",
    "\n",
    "engagement = defaultdict(lambda: {\"courses_enrolled\": 0, \"assignments_submitted\": 0})\n",
    "\n",
    "# Update course enrollments\n",
    "for item in courses_enrolled:\n",
    "    uid = item[\"user_id\"]\n",
    "    engagement[uid][\"courses_enrolled\"] = item[\"courses_enrolled\"]\n",
    "\n",
    "# Update assignment submissions\n",
    "for item in assignments_done:\n",
    "    uid = item[\"user_id\"]\n",
    "    engagement[uid][\"assignments_submitted\"] = item[\"assignments_submitted\"]\n",
    "\n",
    "# Print engagement per student\n",
    "for user_id, metrics in engagement.items():\n",
    "    print(f\"User: {user_id} → Courses: {metrics['courses_enrolled']} | Submissions: {metrics['assignments_submitted']}\")"
   ]
  },
  {
   "cell_type": "code",
   "execution_count": null,
   "id": "227a5cdf-3603-483c-b9b3-6e6579fe53dc",
   "metadata": {},
   "outputs": [],
   "source": []
  },
  {
   "cell_type": "markdown",
   "id": "d10f0cac-5c62-41f6-bbcc-d59d2d78fef0",
   "metadata": {},
   "source": [
    "*PART 5: INDEXING AND PERFORMANCE*"
   ]
  },
  {
   "cell_type": "markdown",
   "id": "ea4e6de0-b337-4fd2-827e-76a4be6ec332",
   "metadata": {},
   "source": [
    "TASK 5.1: INDEX CALCULATION"
   ]
  },
  {
   "cell_type": "markdown",
   "id": "5b920a6b-e1af-4477-8cf6-eb0c74183acc",
   "metadata": {},
   "source": [
    "1. User email Lookup"
   ]
  },
  {
   "cell_type": "code",
   "execution_count": 55,
   "id": "db6b852c-963d-4312-80cb-5b2d165ac8d7",
   "metadata": {},
   "outputs": [
    {
     "name": "stdout",
     "output_type": "stream",
     "text": [
      " User not found.\n"
     ]
    }
   ],
   "source": [
    " #User email lookup\n",
    "\n",
    "\n",
    "# Create an index on email field to speed up lookups\n",
    "users_col.create_index(\"email\")\n",
    "\n",
    "# Test the index with a lookup\n",
    "email_to_find = \"destinysalazar@example.com\"\n",
    "user = users_col.find_one({\"email\": email_to_find})\n",
    "\n",
    "if user:\n",
    "    print(f\" User found: {user['first_name']} {user['last_name']}\")\n",
    "else:\n",
    "    print(\" User not found.\")"
   ]
  },
  {
   "cell_type": "code",
   "execution_count": null,
   "id": "81d886ab-032d-443e-9a16-7e2433253c84",
   "metadata": {},
   "outputs": [],
   "source": []
  },
  {
   "cell_type": "markdown",
   "id": "51842101-29df-45eb-be62-1d23abda3bd8",
   "metadata": {},
   "source": [
    "2.Courses search by category and title"
   ]
  },
  {
   "cell_type": "code",
   "execution_count": 58,
   "id": "9fd754da-d0d7-408c-acd1-a285620b048f",
   "metadata": {},
   "outputs": [],
   "source": [
    "#Course search by title and category \n",
    "\n",
    "\n",
    "# Create compound index on title and category fields\n",
    "courses_col.create_index([(\"title\", 1), (\"category\", 1)])\n",
    "\n",
    "# Example search: partial title match (case-insensitive) and exact category\n",
    "title_keyword = \"MongoDB for Developers\"\n",
    "category_filter = \"Web Development\"\n",
    "\n",
    "courses = courses_col.find({\n",
    "    \"title\": { \"$regex\": title_keyword, \"$options\": \"i\" },\n",
    "    \"category\": category_filter\n",
    "})\n",
    "\n",
    "# Display results\n",
    "for course in courses:\n",
    "    print(f\"{course['title']} → {course['category']}\")"
   ]
  },
  {
   "cell_type": "code",
   "execution_count": null,
   "id": "c96e1953-0174-4c49-aea5-2a1706acdf6a",
   "metadata": {},
   "outputs": [],
   "source": []
  },
  {
   "cell_type": "markdown",
   "id": "ce6991d3-9563-4d4c-a912-996564c45f50",
   "metadata": {},
   "source": [
    "*3: Assignment queries by due date*"
   ]
  },
  {
   "cell_type": "code",
   "execution_count": 60,
   "id": "faa2d845-ace2-4686-8689-83691863e9b0",
   "metadata": {},
   "outputs": [
    {
     "name": "stdout",
     "output_type": "stream",
     "text": [
      "Assignment 4: MongoDB for Developers → Due: 2025-06-17\n",
      "Assignment 5: Python for Beginners → Due: 2025-06-21\n",
      "Assignment 10: Data Visualization with Seaborn → Due: 2025-06-21\n",
      "Assignment 8: Machine Learning with scikit-learn → Due: 2025-06-22\n",
      "Assignment 9: Data Engineering with Python → Due: 2025-06-23\n",
      "Assignment 3: Kubernetes for Developers → Due: 2025-06-24\n",
      "Assignment 6: Data Engineering with Python → Due: 2025-06-26\n",
      "Assignment 7: Data Engineering with Python → Due: 2025-06-26\n",
      "Assignment 1: MongoDB for Developers → Due: 2025-06-27\n",
      "Assignment 2: Machine Learning with scikit-learn → Due: 2025-06-27\n"
     ]
    }
   ],
   "source": [
    "#Assignment queries by due date\n",
    "\n",
    "\n",
    "\n",
    "# Create index on due_date for fast date-based queries\n",
    "assignments_col.create_index(\"due_date\")\n",
    "\n",
    "# Example: Find assignments due within the next 13 days\n",
    "from datetime import datetime, timedelta\n",
    "\n",
    "today = datetime.now()\n",
    "next_week = today + timedelta(days=13)\n",
    "\n",
    "upcoming_assignments = assignments_col.find({\n",
    "    \"due_date\": { \"$gte\": today, \"$lte\": next_week }\n",
    "})\n",
    "\n",
    "# Display results\n",
    "for a in upcoming_assignments:\n",
    "    print(f\"{a['title']} → Due: {a['due_date'].strftime('%Y-%m-%d')}\")"
   ]
  },
  {
   "cell_type": "code",
   "execution_count": null,
   "id": "884ea045-548e-475e-8a90-f68249153779",
   "metadata": {},
   "outputs": [],
   "source": []
  },
  {
   "cell_type": "markdown",
   "id": "c0f5f45a-3e5a-4aa5-bb88-24ffe1f837e2",
   "metadata": {},
   "source": [
    "*4: Enrollemt queries by student and courses*"
   ]
  },
  {
   "cell_type": "code",
   "execution_count": 62,
   "id": "17a2fad1-a758-48aa-8f9f-22b095f6c6d8",
   "metadata": {},
   "outputs": [],
   "source": [
    "#Enrollment queries by student and courses \n",
    "\n",
    "\n",
    "# Create indexes on student_id and course_id\n",
    "enrollments_col.create_index(\"user_id\")\n",
    "enrollments_col.create_index(\"course_id\")\n",
    "\n",
    "# Example: Find all enrollments of a specific student in a specific course\n",
    "user_id = \"U001\"\n",
    "course_id = \"C006\"\n",
    "\n",
    "enrollments = enrollments_col.find({\n",
    "    \"user_id\": user_id,\n",
    "    \"course_id\": course_id\n",
    "})\n",
    "\n",
    "# Display results\n",
    "for e in enrollments:\n",
    "    print(f\"Student {e['user_id']} is enrolled in Course {e['course_id']}\")"
   ]
  },
  {
   "cell_type": "code",
   "execution_count": null,
   "id": "4a48735d-2550-4ae3-b981-aae13fe1810c",
   "metadata": {},
   "outputs": [],
   "source": []
  },
  {
   "cell_type": "markdown",
   "id": "46570077-812a-496c-b752-6bbd2720261e",
   "metadata": {},
   "source": [
    "*TASK 5.2 : QUERY OPTIMIZATION*"
   ]
  },
  {
   "cell_type": "markdown",
   "id": "98d4baed-ae7b-47f2-a9e3-544e8031d06b",
   "metadata": {},
   "source": [
    "*1: Analyze query performance using explain() method in PyMongo*"
   ]
  },
  {
   "cell_type": "code",
   "execution_count": 63,
   "id": "87df7380-d62d-4dcc-b114-30dbf2f1f7a0",
   "metadata": {},
   "outputs": [
    {
     "name": "stdout",
     "output_type": "stream",
     "text": [
      "Query Execution Stats:\n",
      "Execution Time (ms): 1\n",
      "Total Documents Examined: 2\n",
      "Index Used: title_1_category_1\n"
     ]
    }
   ],
   "source": [
    "\n",
    "#Analyze query performance using explain() method in pymongo \n",
    "\n",
    "\n",
    "# Example query (search course by title, case-insensitive)\n",
    "query = {\n",
    "    \"title\": { \"$regex\": \"python\", \"$options\": \"i\" }\n",
    "}\n",
    "\n",
    "# Using xplain to analyze query performance\n",
    "explain_result = courses_col.find(query).explain()\n",
    "\n",
    "# Print key insights\n",
    "print(\"Query Execution Stats:\")\n",
    "print(\"Execution Time (ms):\", explain_result[\"executionStats\"][\"executionTimeMillis\"])\n",
    "print(\"Total Documents Examined:\", explain_result[\"executionStats\"][\"totalDocsExamined\"])\n",
    "print(\"Index Used:\", explain_result[\"queryPlanner\"][\"winningPlan\"][\"inputStage\"].get(\"indexName\", \"None\"))"
   ]
  },
  {
   "cell_type": "code",
   "execution_count": null,
   "id": "c5d586e9-bc72-4f6e-aac5-19f6a200983d",
   "metadata": {},
   "outputs": [],
   "source": []
  },
  {
   "cell_type": "markdown",
   "id": "1629ab04-634e-40c1-81e5-3bcbaba15c76",
   "metadata": {},
   "source": [
    "2 : Optimize at least 3 slow queries"
   ]
  },
  {
   "cell_type": "markdown",
   "id": "71aa2c4d-d185-4165-bd4b-3e6f422bfe0a",
   "metadata": {},
   "source": [
    "*1 Find Courses by Title and Category*"
   ]
  },
  {
   "cell_type": "code",
   "execution_count": 64,
   "id": "c799a275-b00d-4453-b039-448b0dea8a90",
   "metadata": {},
   "outputs": [
    {
     "data": {
      "text/plain": [
       "{'explainVersion': '1',\n",
       " 'queryPlanner': {'namespace': 'eduhub_db.courses',\n",
       "  'parsedQuery': {'$and': [{'category': {'$eq': 'Data Engineering'}},\n",
       "    {'title': {'$regex': 'python', '$options': 'i'}}]},\n",
       "  'indexFilterSet': False,\n",
       "  'queryHash': '155DDD63',\n",
       "  'planCacheShapeHash': '155DDD63',\n",
       "  'planCacheKey': '31292C86',\n",
       "  'optimizationTimeMillis': 1,\n",
       "  'maxIndexedOrSolutionsReached': False,\n",
       "  'maxIndexedAndSolutionsReached': False,\n",
       "  'maxScansToExplodeReached': False,\n",
       "  'prunedSimilarIndexes': False,\n",
       "  'winningPlan': {'isCached': False,\n",
       "   'stage': 'FETCH',\n",
       "   'inputStage': {'stage': 'IXSCAN',\n",
       "    'filter': {'title': {'$regex': 'python', '$options': 'i'}},\n",
       "    'keyPattern': {'title': 1, 'category': 1},\n",
       "    'indexName': 'title_1_category_1',\n",
       "    'isMultiKey': False,\n",
       "    'multiKeyPaths': {'title': [], 'category': []},\n",
       "    'isUnique': False,\n",
       "    'isSparse': False,\n",
       "    'isPartial': False,\n",
       "    'indexVersion': 2,\n",
       "    'direction': 'forward',\n",
       "    'indexBounds': {'title': ['[\"\", {})', '[/python/i, /python/i]'],\n",
       "     'category': ['[\"Data Engineering\", \"Data Engineering\"]']}}},\n",
       "  'rejectedPlans': []},\n",
       " 'executionStats': {'executionSuccess': True,\n",
       "  'nReturned': 1,\n",
       "  'executionTimeMillis': 2,\n",
       "  'totalKeysExamined': 7,\n",
       "  'totalDocsExamined': 1,\n",
       "  'executionStages': {'isCached': False,\n",
       "   'stage': 'FETCH',\n",
       "   'nReturned': 1,\n",
       "   'executionTimeMillisEstimate': 0,\n",
       "   'works': 8,\n",
       "   'advanced': 1,\n",
       "   'needTime': 6,\n",
       "   'needYield': 0,\n",
       "   'saveState': 0,\n",
       "   'restoreState': 0,\n",
       "   'isEOF': 1,\n",
       "   'docsExamined': 1,\n",
       "   'alreadyHasObj': 0,\n",
       "   'inputStage': {'stage': 'IXSCAN',\n",
       "    'filter': {'title': {'$regex': 'python', '$options': 'i'}},\n",
       "    'nReturned': 1,\n",
       "    'executionTimeMillisEstimate': 0,\n",
       "    'works': 8,\n",
       "    'advanced': 1,\n",
       "    'needTime': 6,\n",
       "    'needYield': 0,\n",
       "    'saveState': 0,\n",
       "    'restoreState': 0,\n",
       "    'isEOF': 1,\n",
       "    'keyPattern': {'title': 1, 'category': 1},\n",
       "    'indexName': 'title_1_category_1',\n",
       "    'isMultiKey': False,\n",
       "    'multiKeyPaths': {'title': [], 'category': []},\n",
       "    'isUnique': False,\n",
       "    'isSparse': False,\n",
       "    'isPartial': False,\n",
       "    'indexVersion': 2,\n",
       "    'direction': 'forward',\n",
       "    'indexBounds': {'title': ['[\"\", {})', '[/python/i, /python/i]'],\n",
       "     'category': ['[\"Data Engineering\", \"Data Engineering\"]']},\n",
       "    'keysExamined': 7,\n",
       "    'seeks': 5,\n",
       "    'dupsTested': 0,\n",
       "    'dupsDropped': 0}},\n",
       "  'allPlansExecution': []},\n",
       " 'queryShapeHash': '9E009AA3E9DC8639E8D1EBF217343810A0BC8EB5122BE09A3F41125A48DEDAFA',\n",
       " 'command': {'find': 'courses',\n",
       "  'filter': {'title': {'$regex': 'python', '$options': 'i'},\n",
       "   'category': 'Data Engineering'},\n",
       "  '$db': 'eduhub_db'},\n",
       " 'serverInfo': {'host': 'DESKTOP-34E8JUI',\n",
       "  'port': 27017,\n",
       "  'version': '8.0.10',\n",
       "  'gitVersion': '9d03076bb2d5147d5b6fe381c7118b0b0478b682'},\n",
       " 'serverParameters': {'internalQueryFacetBufferSizeBytes': 104857600,\n",
       "  'internalQueryFacetMaxOutputDocSizeBytes': 104857600,\n",
       "  'internalLookupStageIntermediateDocumentMaxSizeBytes': 104857600,\n",
       "  'internalDocumentSourceGroupMaxMemoryBytes': 104857600,\n",
       "  'internalQueryMaxBlockingSortMemoryUsageBytes': 104857600,\n",
       "  'internalQueryProhibitBlockingMergeOnMongoS': 0,\n",
       "  'internalQueryMaxAddToSetBytes': 104857600,\n",
       "  'internalDocumentSourceSetWindowFieldsMaxMemoryBytes': 104857600,\n",
       "  'internalQueryFrameworkControl': 'trySbeRestricted',\n",
       "  'internalQueryPlannerIgnoreIndexWithCollationForRegex': 1},\n",
       " 'ok': 1.0}"
      ]
     },
     "execution_count": 64,
     "metadata": {},
     "output_type": "execute_result"
    }
   ],
   "source": [
    "#Optimize at least 3 slow queries \n",
    "\n",
    "\n",
    "#Slow query \n",
    "\n",
    "courses_col.find({\n",
    "    \"title\": { \"$regex\": \"python\", \"$options\": \"i\" },\n",
    "    \"category\": \"Data Engineering\"\n",
    "})\n",
    "\n",
    "\n",
    "#Optimization \n",
    "\n",
    "# Create compound index\n",
    "courses_col.create_index([(\"title\", 1), (\"category\", 1)])\n",
    "\n",
    "\n",
    "#Analyze\n",
    "\n",
    "courses_col.find({\n",
    "    \"title\": { \"$regex\": \"python\", \"$options\": \"i\" },\n",
    "    \"category\": \"Data Engineering\"\n",
    "}).explain()"
   ]
  },
  {
   "cell_type": "code",
   "execution_count": null,
   "id": "fd6b5fc5-ad54-41c1-bb8f-62901a99000d",
   "metadata": {},
   "outputs": [],
   "source": []
  },
  {
   "cell_type": "markdown",
   "id": "5aa7d2fe-9c92-4495-844a-9752c3027359",
   "metadata": {},
   "source": [
    "*2. Find Assignments Due in Next 13 Days*"
   ]
  },
  {
   "cell_type": "code",
   "execution_count": 66,
   "id": "fc1509d0-2bda-4d4b-9a2b-1ca5f14c5153",
   "metadata": {},
   "outputs": [
    {
     "data": {
      "text/plain": [
       "{'explainVersion': '1',\n",
       " 'queryPlanner': {'namespace': 'eduhub_db.assignments',\n",
       "  'parsedQuery': {'$and': [{'due_date': {'$lte': datetime.datetime(2025, 6, 21, 15, 14, 32, 944000)}},\n",
       "    {'due_date': {'$gte': datetime.datetime(2025, 6, 14, 15, 14, 32, 944000)}}]},\n",
       "  'indexFilterSet': False,\n",
       "  'queryHash': '63C5D55B',\n",
       "  'planCacheShapeHash': '63C5D55B',\n",
       "  'planCacheKey': '6B7DE233',\n",
       "  'optimizationTimeMillis': 1,\n",
       "  'maxIndexedOrSolutionsReached': False,\n",
       "  'maxIndexedAndSolutionsReached': False,\n",
       "  'maxScansToExplodeReached': False,\n",
       "  'prunedSimilarIndexes': False,\n",
       "  'winningPlan': {'isCached': False,\n",
       "   'stage': 'FETCH',\n",
       "   'inputStage': {'stage': 'IXSCAN',\n",
       "    'keyPattern': {'due_date': 1},\n",
       "    'indexName': 'due_date_1',\n",
       "    'isMultiKey': False,\n",
       "    'multiKeyPaths': {'due_date': []},\n",
       "    'isUnique': False,\n",
       "    'isSparse': False,\n",
       "    'isPartial': False,\n",
       "    'indexVersion': 2,\n",
       "    'direction': 'forward',\n",
       "    'indexBounds': {'due_date': ['[new Date(1749914072944), new Date(1750518872944)]']}}},\n",
       "  'rejectedPlans': []},\n",
       " 'executionStats': {'executionSuccess': True,\n",
       "  'nReturned': 3,\n",
       "  'executionTimeMillis': 1,\n",
       "  'totalKeysExamined': 3,\n",
       "  'totalDocsExamined': 3,\n",
       "  'executionStages': {'isCached': False,\n",
       "   'stage': 'FETCH',\n",
       "   'nReturned': 3,\n",
       "   'executionTimeMillisEstimate': 0,\n",
       "   'works': 4,\n",
       "   'advanced': 3,\n",
       "   'needTime': 0,\n",
       "   'needYield': 0,\n",
       "   'saveState': 0,\n",
       "   'restoreState': 0,\n",
       "   'isEOF': 1,\n",
       "   'docsExamined': 3,\n",
       "   'alreadyHasObj': 0,\n",
       "   'inputStage': {'stage': 'IXSCAN',\n",
       "    'nReturned': 3,\n",
       "    'executionTimeMillisEstimate': 0,\n",
       "    'works': 4,\n",
       "    'advanced': 3,\n",
       "    'needTime': 0,\n",
       "    'needYield': 0,\n",
       "    'saveState': 0,\n",
       "    'restoreState': 0,\n",
       "    'isEOF': 1,\n",
       "    'keyPattern': {'due_date': 1},\n",
       "    'indexName': 'due_date_1',\n",
       "    'isMultiKey': False,\n",
       "    'multiKeyPaths': {'due_date': []},\n",
       "    'isUnique': False,\n",
       "    'isSparse': False,\n",
       "    'isPartial': False,\n",
       "    'indexVersion': 2,\n",
       "    'direction': 'forward',\n",
       "    'indexBounds': {'due_date': ['[new Date(1749914072944), new Date(1750518872944)]']},\n",
       "    'keysExamined': 3,\n",
       "    'seeks': 1,\n",
       "    'dupsTested': 0,\n",
       "    'dupsDropped': 0}},\n",
       "  'allPlansExecution': []},\n",
       " 'queryShapeHash': 'F6B86BB2880B29BD908863340936D9DB05E5EE17F09C2F85C980CF8701C285A3',\n",
       " 'command': {'find': 'assignments',\n",
       "  'filter': {'due_date': {'$gte': datetime.datetime(2025, 6, 14, 15, 14, 32, 944000),\n",
       "    '$lte': datetime.datetime(2025, 6, 21, 15, 14, 32, 944000)}},\n",
       "  '$db': 'eduhub_db'},\n",
       " 'serverInfo': {'host': 'DESKTOP-34E8JUI',\n",
       "  'port': 27017,\n",
       "  'version': '8.0.10',\n",
       "  'gitVersion': '9d03076bb2d5147d5b6fe381c7118b0b0478b682'},\n",
       " 'serverParameters': {'internalQueryFacetBufferSizeBytes': 104857600,\n",
       "  'internalQueryFacetMaxOutputDocSizeBytes': 104857600,\n",
       "  'internalLookupStageIntermediateDocumentMaxSizeBytes': 104857600,\n",
       "  'internalDocumentSourceGroupMaxMemoryBytes': 104857600,\n",
       "  'internalQueryMaxBlockingSortMemoryUsageBytes': 104857600,\n",
       "  'internalQueryProhibitBlockingMergeOnMongoS': 0,\n",
       "  'internalQueryMaxAddToSetBytes': 104857600,\n",
       "  'internalDocumentSourceSetWindowFieldsMaxMemoryBytes': 104857600,\n",
       "  'internalQueryFrameworkControl': 'trySbeRestricted',\n",
       "  'internalQueryPlannerIgnoreIndexWithCollationForRegex': 1},\n",
       " 'ok': 1.0}"
      ]
     },
     "execution_count": 66,
     "metadata": {},
     "output_type": "execute_result"
    }
   ],
   "source": [
    "#2. Find Assignments Due in Next 13 Days\n",
    "\n",
    "#Slow query\n",
    "\n",
    "assignments_col.find({\n",
    "    \"due_date\": { \"$gte\": datetime.now(), \"$lte\": datetime.now() + timedelta(days=13) }\n",
    "})\n",
    "\n",
    "\n",
    "\n",
    "#Optimization \n",
    "\n",
    "# Index on due_date\n",
    "assignments_col.create_index(\"due_date\")\n",
    "\n",
    "\n",
    "#Analyze\n",
    "\n",
    "assignments_col.find({\n",
    "    \"due_date\": { \"$gte\": datetime.now(), \"$lte\": datetime.now() + timedelta(days=7) }\n",
    "}).explain()"
   ]
  },
  {
   "cell_type": "code",
   "execution_count": null,
   "id": "69c1c101-644c-451c-bbea-0ac3ff427b52",
   "metadata": {},
   "outputs": [],
   "source": []
  },
  {
   "cell_type": "markdown",
   "id": "08232bce-ecfb-47f4-85e8-72ef7e10c715",
   "metadata": {},
   "source": [
    "*3. Find All Enrollments for a Student*"
   ]
  },
  {
   "cell_type": "code",
   "execution_count": 67,
   "id": "f240ac4f-1922-4879-ad60-b73c60f954e5",
   "metadata": {},
   "outputs": [
    {
     "data": {
      "text/plain": [
       "{'explainVersion': '1',\n",
       " 'queryPlanner': {'namespace': 'eduhub_db.enrollments',\n",
       "  'parsedQuery': {'student_id': {'$eq': 'U005'}},\n",
       "  'indexFilterSet': False,\n",
       "  'queryHash': '840990DF',\n",
       "  'planCacheShapeHash': '840990DF',\n",
       "  'planCacheKey': '405F65EE',\n",
       "  'optimizationTimeMillis': 0,\n",
       "  'maxIndexedOrSolutionsReached': False,\n",
       "  'maxIndexedAndSolutionsReached': False,\n",
       "  'maxScansToExplodeReached': False,\n",
       "  'prunedSimilarIndexes': False,\n",
       "  'winningPlan': {'isCached': False,\n",
       "   'stage': 'FETCH',\n",
       "   'inputStage': {'stage': 'IXSCAN',\n",
       "    'keyPattern': {'student_id': 1},\n",
       "    'indexName': 'student_id_1',\n",
       "    'isMultiKey': False,\n",
       "    'multiKeyPaths': {'student_id': []},\n",
       "    'isUnique': False,\n",
       "    'isSparse': False,\n",
       "    'isPartial': False,\n",
       "    'indexVersion': 2,\n",
       "    'direction': 'forward',\n",
       "    'indexBounds': {'student_id': ['[\"U005\", \"U005\"]']}}},\n",
       "  'rejectedPlans': []},\n",
       " 'executionStats': {'executionSuccess': True,\n",
       "  'nReturned': 0,\n",
       "  'executionTimeMillis': 13,\n",
       "  'totalKeysExamined': 0,\n",
       "  'totalDocsExamined': 0,\n",
       "  'executionStages': {'isCached': False,\n",
       "   'stage': 'FETCH',\n",
       "   'nReturned': 0,\n",
       "   'executionTimeMillisEstimate': 14,\n",
       "   'works': 1,\n",
       "   'advanced': 0,\n",
       "   'needTime': 0,\n",
       "   'needYield': 0,\n",
       "   'saveState': 0,\n",
       "   'restoreState': 0,\n",
       "   'isEOF': 1,\n",
       "   'docsExamined': 0,\n",
       "   'alreadyHasObj': 0,\n",
       "   'inputStage': {'stage': 'IXSCAN',\n",
       "    'nReturned': 0,\n",
       "    'executionTimeMillisEstimate': 14,\n",
       "    'works': 1,\n",
       "    'advanced': 0,\n",
       "    'needTime': 0,\n",
       "    'needYield': 0,\n",
       "    'saveState': 0,\n",
       "    'restoreState': 0,\n",
       "    'isEOF': 1,\n",
       "    'keyPattern': {'student_id': 1},\n",
       "    'indexName': 'student_id_1',\n",
       "    'isMultiKey': False,\n",
       "    'multiKeyPaths': {'student_id': []},\n",
       "    'isUnique': False,\n",
       "    'isSparse': False,\n",
       "    'isPartial': False,\n",
       "    'indexVersion': 2,\n",
       "    'direction': 'forward',\n",
       "    'indexBounds': {'student_id': ['[\"U005\", \"U005\"]']},\n",
       "    'keysExamined': 0,\n",
       "    'seeks': 1,\n",
       "    'dupsTested': 0,\n",
       "    'dupsDropped': 0}},\n",
       "  'allPlansExecution': []},\n",
       " 'queryShapeHash': '0C945A7E45D19949B9A4719FB0E4F51AD45F17FF1A6979BCA39268FA7BC3BF2C',\n",
       " 'command': {'find': 'enrollments',\n",
       "  'filter': {'student_id': 'U005'},\n",
       "  '$db': 'eduhub_db'},\n",
       " 'serverInfo': {'host': 'DESKTOP-34E8JUI',\n",
       "  'port': 27017,\n",
       "  'version': '8.0.10',\n",
       "  'gitVersion': '9d03076bb2d5147d5b6fe381c7118b0b0478b682'},\n",
       " 'serverParameters': {'internalQueryFacetBufferSizeBytes': 104857600,\n",
       "  'internalQueryFacetMaxOutputDocSizeBytes': 104857600,\n",
       "  'internalLookupStageIntermediateDocumentMaxSizeBytes': 104857600,\n",
       "  'internalDocumentSourceGroupMaxMemoryBytes': 104857600,\n",
       "  'internalQueryMaxBlockingSortMemoryUsageBytes': 104857600,\n",
       "  'internalQueryProhibitBlockingMergeOnMongoS': 0,\n",
       "  'internalQueryMaxAddToSetBytes': 104857600,\n",
       "  'internalDocumentSourceSetWindowFieldsMaxMemoryBytes': 104857600,\n",
       "  'internalQueryFrameworkControl': 'trySbeRestricted',\n",
       "  'internalQueryPlannerIgnoreIndexWithCollationForRegex': 1},\n",
       " 'ok': 1.0}"
      ]
     },
     "execution_count": 67,
     "metadata": {},
     "output_type": "execute_result"
    }
   ],
   "source": [
    "#3. Find All Enrollments for a Student\n",
    "#Slow query \n",
    "\n",
    "enrollments_col.find({ \"student_id\": \"U005\" })\n",
    "\n",
    "\n",
    "#Optimization \n",
    "\n",
    "# Index on student_id\n",
    "enrollments_col.create_index(\"student_id\")\n",
    "\n",
    "#Analyze\n",
    "\n",
    "enrollments_col.find({ \"student_id\": \"U005\" }).explain()"
   ]
  },
  {
   "cell_type": "code",
   "execution_count": null,
   "id": "ccfc6830-373e-40c3-8cd9-e8f8615cace5",
   "metadata": {},
   "outputs": [],
   "source": []
  },
  {
   "cell_type": "markdown",
   "id": "9beba11c-9b70-4841-973b-8b53d1bc106e",
   "metadata": {},
   "source": [
    "*3: Document the performance improvements using python timing functions*"
   ]
  },
  {
   "cell_type": "code",
   "execution_count": 68,
   "id": "bea2dc9a-9ac1-4133-a81f-fdd1d3d31c2d",
   "metadata": {},
   "outputs": [
    {
     "name": "stdout",
     "output_type": "stream",
     "text": [
      " Time without index: 0.0073 seconds\n",
      " Time with index: 0.0060 seconds\n"
     ]
    }
   ],
   "source": [
    "#Document the performance improvements using python timing functions \n",
    "\n",
    "#Example: Measure and Compare Query Time (Courses by Title + Category)\n",
    "\n",
    "import time\n",
    "\n",
    "# Query definition\n",
    "query = {\n",
    "    \"title\": { \"$regex\": \"python\", \"$options\": \"i\" },\n",
    "    \"category\": \"Data Engineering\"\n",
    "}\n",
    "\n",
    "# Measure execution time before index\n",
    "start_time = time.time()\n",
    "courses_col.find(query).explain()\n",
    "end_time = time.time()\n",
    "print(\" Time without index: {:.4f} seconds\".format(end_time - start_time))\n",
    "\n",
    "# Create compound index\n",
    "courses_col.create_index([(\"title\", 1), (\"category\", 1)])\n",
    "\n",
    "# Measure execution time after index\n",
    "start_time = time.time()\n",
    "courses_col.find(query).explain()\n",
    "end_time = time.time()\n",
    "print(\" Time with index: {:.4f} seconds\".format(end_time - start_time))"
   ]
  },
  {
   "cell_type": "code",
   "execution_count": null,
   "id": "9407dea6-6759-4e2e-9307-18e721112425",
   "metadata": {},
   "outputs": [],
   "source": []
  },
  {
   "cell_type": "markdown",
   "id": "6d9a1cca-0d8b-4b48-8a63-e67ec3f7b8d0",
   "metadata": {},
   "source": [
    "*PART 6 : DATA VALIDATION AND ERROR HANDLING*"
   ]
  },
  {
   "cell_type": "markdown",
   "id": "60c7ea4a-0667-4347-b60b-fd43db6ccbb7",
   "metadata": {},
   "source": [
    "*TASK 6.1 : SCHEMA VALIDATION*"
   ]
  },
  {
   "cell_type": "code",
   "execution_count": 69,
   "id": "889eb6de-7628-48b7-ac91-de30409e76c6",
   "metadata": {},
   "outputs": [
    {
     "data": {
      "text/plain": [
       "InsertOneResult(ObjectId('684d84e04cbb2473454156a3'), acknowledged=True)"
      ]
     },
     "execution_count": 69,
     "metadata": {},
     "output_type": "execute_result"
    }
   ],
   "source": [
    "#schema validation \n",
    "\n",
    "\n",
    "#Implement validation rules for :\n",
    "#Required fields\n",
    "#Data type validation\n",
    "#Enum value restictions\n",
    "#Email format validation\n",
    "\n",
    "\n",
    "db.create_collection(\"users_validated\", validator={\n",
    "    \"$jsonSchema\": {\n",
    "        \"bsonType\": \"object\",\n",
    "        \"required\": [\"user_id\", \"email\", \"first_name\", \"last_name\", \"role\", \"date_joined\", \"is_active\"],\n",
    "        \"properties\": {\n",
    "            \"user_id\": { \"bsonType\": \"string\" },\n",
    "            \"email\": { \"bsonType\": \"string\" },\n",
    "            \"first_name\": { \"bsonType\": \"string\" },\n",
    "            \"last_name\": { \"bsonType\": \"string\" },\n",
    "            \"role\": { \n",
    "                \"enum\": [\"student\", \"instructor\"],\n",
    "                \"description\": \"Role must be student or instructor\"\n",
    "            },\n",
    "            \"date_joined\": { \"bsonType\": \"date\" },\n",
    "            \"is_active\": { \"bsonType\": \"bool\" }\n",
    "        }\n",
    "    }\n",
    "\n",
    "})\n",
    "\n",
    "\n",
    "\n",
    "#Inserting a valid document \n",
    "\n",
    "db.users_validated.insert_one({\n",
    "    \"user_id\": \"U999\",\n",
    "    \"email\": \"valid@example.com\",\n",
    "    \"first_name\": \"Jane\",\n",
    "    \"last_name\": \"Doe\",\n",
    "    \"role\": \"student\",\n",
    "    \"date_joined\": datetime.now(),\n",
    "    \"is_active\": True\n",
    "})"
   ]
  },
  {
   "cell_type": "code",
   "execution_count": null,
   "id": "25e0a178-5ba9-4b77-a1a2-e0f540cd8edb",
   "metadata": {},
   "outputs": [],
   "source": []
  },
  {
   "cell_type": "markdown",
   "id": "85eb10e1-6592-4eb9-a004-8fbe2e10ae77",
   "metadata": {},
   "source": [
    "TASK 6.2: ERROR HANDLING"
   ]
  },
  {
   "cell_type": "code",
   "execution_count": 71,
   "id": "d8e81e53-1998-4bf1-b75d-47b9204b0c6d",
   "metadata": {},
   "outputs": [
    {
     "name": "stdout",
     "output_type": "stream",
     "text": [
      "Write Error (Validation failed): Document failed validation, full error: {'index': 0, 'code': 121, 'errmsg': 'Document failed validation', 'errInfo': {'failingDocumentId': ObjectId('666abcd12345678901234567'), 'details': {'operatorName': '$jsonSchema', 'schemaRulesNotSatisfied': [{'operatorName': 'properties', 'propertiesNotSatisfied': [{'propertyName': 'role', 'description': 'Role must be student or instructor', 'details': [{'operatorName': 'enum', 'specifiedAs': {'enum': ['student', 'instructor']}, 'reason': 'value was not found in enum', 'consideredValue': 'admin'}]}, {'propertyName': 'date_joined', 'details': [{'operatorName': 'bsonType', 'specifiedAs': {'bsonType': 'date'}, 'reason': 'type did not match', 'consideredValue': '2024-01-01', 'consideredType': 'string'}]}]}, {'operatorName': 'required', 'specifiedAs': {'required': ['user_id', 'email', 'first_name', 'last_name', 'role', 'date_joined', 'is_active']}, 'missingProperties': ['is_active']}]}}}\n"
     ]
    }
   ],
   "source": [
    "#Error handling \n",
    "\n",
    "#WRITING QUERIES THAT HANDLES THE FOLLOWING COMMON ERRORS::\n",
    "#1 Duplicate key error\n",
    "#2 Invalid data type insertion\n",
    "#3 Missing required fields\n",
    "\n",
    "\n",
    "from pymongo.errors import DuplicateKeyError, WriteError, WriteConcernError\n",
    "\n",
    "try:\n",
    "    db.users_validated.insert_one({\n",
    "        \n",
    "        \"_id\": ObjectId(\"666abcd12345678901234567\"),  # May cause duplicate _id\n",
    "        \"user_id\": \"U100\",\n",
    "        \"email\": \"invalidemail.com\",  # invalid if regex used\n",
    "        \"first_name\": \"John\",\n",
    "        \"last_name\": \"Doe\",\n",
    "        \"role\": \"admin\",  # Invalid enum if validation applied\n",
    "        \"date_joined\": \"2024-01-01\",  # Wrong type if not converted to datetime\n",
    "        # \"is_active\" is missing (required)\n",
    "    })\n",
    "\n",
    "except DuplicateKeyError as e:\n",
    "    print(\"Duplicate Key Error:\", e)\n",
    "\n",
    "except WriteError as e:\n",
    "      print(\"Write Error (Validation failed):\", e)\n",
    "\n",
    "except WriteConcernError as e:\n",
    "    print(\" Write Concern Error:\", e)\n",
    "\n",
    "except Exception as e:\n",
    "    print(\" General Error:\", e)"
   ]
  },
  {
   "cell_type": "code",
   "execution_count": null,
   "id": "e38607e0-48bc-4baa-bc2d-60393266bc40",
   "metadata": {},
   "outputs": [],
   "source": []
  },
  {
   "cell_type": "code",
   "execution_count": null,
   "id": "f206bff2-a29c-4166-b23e-7c2dd39d0c89",
   "metadata": {},
   "outputs": [],
   "source": []
  },
  {
   "cell_type": "markdown",
   "id": "b2f70f11-313e-4ea1-af43-bb26d5b2486c",
   "metadata": {},
   "source": [
    " *BONUS CHALLENGE!!          BONUS CHALLENGE!!!*"
   ]
  },
  {
   "cell_type": "markdown",
   "id": "3c10d4cc-c10a-4760-abc8-3dd918350af7",
   "metadata": {},
   "source": [
    "*1. Implement text search functionality for course content*"
   ]
  },
  {
   "cell_type": "code",
   "execution_count": 72,
   "id": "38f37c21-47f1-4af2-a3b5-b9054c24410d",
   "metadata": {},
   "outputs": [
    {
     "name": "stdout",
     "output_type": "stream",
     "text": [
      " Data Engineering Essentials - Master the basics of data pipelines, ETL, and database manag...\n",
      " Python for Beginners - Learn to build REST APIs and microservices with Flask and Dj...\n",
      " Unit Testing in Python - Learn how to build scalable data pipelines using modern tool...\n"
     ]
    }
   ],
   "source": [
    "#Implement text search functionality for course content \n",
    "\n",
    "#Step 1: Create Text Index on Course Fields\n",
    "\n",
    "courses_col.create_index([\n",
    "    (\"title\", \"text\"),\n",
    "    (\"description\", \"text\"),\n",
    "    (\"tags\", \"text\")\n",
    "])\n",
    "\n",
    "\n",
    "#Step 2: Text Search Query\n",
    "\n",
    "def search_courses_by_text(keyword):\n",
    "    results = courses_col.find({\n",
    "        \"$text\": { \"$search\": keyword }\n",
    "    })\n",
    "\n",
    "    for course in results:\n",
    "        print(f\" {course['title']} - {course['description'][:60]}...\")\n",
    "\n",
    "\n",
    "\n",
    "#Example usage\n",
    "search_courses_by_text(\"python ETL\")"
   ]
  },
  {
   "cell_type": "code",
   "execution_count": null,
   "id": "04818283-1e9e-4ce2-8191-abcf740ce1e1",
   "metadata": {},
   "outputs": [],
   "source": []
  },
  {
   "cell_type": "markdown",
   "id": "9e19bc19-2194-478d-8311-cae8afff69f1",
   "metadata": {},
   "source": [
    "*2. Design a data archiving strategy for old enrollments*"
   ]
  },
  {
   "cell_type": "code",
   "execution_count": 74,
   "id": "b30e0fe7-9b96-4b39-a6ab-2c947d82b178",
   "metadata": {},
   "outputs": [
    {
     "name": "stdout",
     "output_type": "stream",
     "text": [
      "📭 No old enrollments to archive.\n"
     ]
    }
   ],
   "source": [
    "#Design a data archiving strategy for old enrollments\n",
    "\n",
    "#Step 1: Create Archive Collection\n",
    "\n",
    "archived_col = db[\"archived_enrollments\"]\n",
    "\n",
    "\n",
    "#Step 2: Define the Archiving Logic\n",
    "\n",
    "def archive_old_enrollments():\n",
    "    # 6 months ago\n",
    "    six_months_ago = datetime.now() - timedelta(days=180)\n",
    "\n",
    "    # Find old enrollments\n",
    "    old_enrollments = list(enrollments_col.find({\n",
    "        \"enrolled_on\": { \"$lt\": six_months_ago }\n",
    "    }))\n",
    "\n",
    "    if not old_enrollments:\n",
    "        print(\"📭 No old enrollments to archive.\")\n",
    "        return\n",
    "\n",
    "    # Insert into archive\n",
    "    archived_col.insert_many(old_enrollments)\n",
    "\n",
    "    # Delete from main collection\n",
    "    ids_to_delete = [doc[\"_id\"] for doc in old_enrollments]\n",
    "    enrollments_col.delete_many({ \"_id\": { \"$in\": ids_to_delete } })\n",
    "\n",
    "    print(f\" Archived {len(old_enrollments)} old enrollments.\")\n",
    "\n",
    "\n",
    "\n",
    "#Example usage\n",
    "\n",
    "archive_old_enrollments()"
   ]
  },
  {
   "cell_type": "code",
   "execution_count": null,
   "id": "226c41d7-0603-4c2a-bbcd-3043bb6f21c8",
   "metadata": {},
   "outputs": [],
   "source": []
  }
 ],
 "metadata": {
  "kernelspec": {
   "display_name": "Python [conda env:base] *",
   "language": "python",
   "name": "conda-base-py"
  },
  "language_info": {
   "codemirror_mode": {
    "name": "ipython",
    "version": 3
   },
   "file_extension": ".py",
   "mimetype": "text/x-python",
   "name": "python",
   "nbconvert_exporter": "python",
   "pygments_lexer": "ipython3",
   "version": "3.12.7"
  }
 },
 "nbformat": 4,
 "nbformat_minor": 5
}
